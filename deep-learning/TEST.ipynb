{
  "cells": [
    {
      "cell_type": "markdown",
      "id": "c33b7875",
      "metadata": {
        "id": "c33b7875"
      },
      "source": [
        "# Redes Neurais\n",
        "\n",
        "Este notebook serve como um guia introdutório ao desenvolvimento de redes neurais utilizando a biblioteca PyTorch. Abordaremos os componentes fundamentais da biblioteca, desde a manipulação de tensores até a construção e o treinamento de um modelo de rede neural para classificação de imagens.\n",
        "\n",
        "## Conteúdos Abordados\n",
        "\n",
        "1.  **Tensores e Grafos Computacionais**: A base do PyTorch.\n",
        "2.  **O Módulo `torch.nn`**: Construindo camadas da rede.\n",
        "3.  **Funções de Ativação**: Introduzindo não linearidade.\n",
        "4.  **Construindo Modelos**: `nn.Sequential` e classes customizadas com `nn.Module`.\n",
        "5.  **Datasets e DataLoaders**: Gerenciando e preparando dados com o `torchvision`.\n",
        "6.  **Funções de Custo (Loss Functions)**: Quantificando o erro do modelo.\n",
        "7.  **Otimizadores**: Atualizando os pesos do modelo.\n",
        "8.  **Treinamento**: O ciclo completo de forward, backward e otimização."
      ]
    },
    {
      "cell_type": "markdown",
      "id": "94f64f89",
      "metadata": {
        "id": "94f64f89"
      },
      "source": [
        "## 1. Tensores e Grafos Computacionais\n",
        "\n",
        "O `Tensor` é a estrutura de dados central do PyTorch. Trata-se de uma matriz multidimensional otimizada para operações em hardware especializado como GPUs. Os tensores são a base para a construção de grafos computacionais dinâmicos, que são essenciais para o cálculo automático de gradientes através do mecanismo de diferenciação automática, conhecido como `autograd`."
      ]
    },
    {
      "cell_type": "code",
      "execution_count": null,
      "id": "8a888fd8",
      "metadata": {
        "colab": {
          "base_uri": "https://localhost:8080/"
        },
        "id": "8a888fd8",
        "outputId": "dc509e1c-ddce-4851-a118-1e1e543889ea"
      },
      "outputs": [
        {
          "output_type": "stream",
          "name": "stdout",
          "text": [
            "Tensor a partir de lista:\n",
            " tensor([[1., 2.],\n",
            "        [3., 4.]])\n",
            "\n",
            "Tensor de 'uns':\n",
            " tensor([[1., 1.],\n",
            "        [1., 1.]]) \n",
            "\n",
            "Tensor aleatório:\n",
            " tensor([[0.7404, 0.6846],\n",
            "        [0.3127, 0.0224]]) \n",
            "\n"
          ]
        }
      ],
      "source": [
        "import torch\n",
        "\n",
        "# Criando um tensor a partir de uma lista Python\n",
        "data_list = [[1, 2], [3, 4]]\n",
        "x_data = torch.tensor(data_list, dtype=torch.float32)\n",
        "print(f\"Tensor a partir de lista:\\n {x_data}\\n\")\n",
        "\n",
        "# Funções de criação de tensores\n",
        "x_ones = torch.ones_like(x_data) # Cria um tensor de 'uns' com o mesmo formato de x_data\n",
        "print(f\"Tensor de 'uns':\\n {x_ones} \\n\")\n",
        "\n",
        "x_rand = torch.rand_like(x_data, dtype=torch.float) # Cria um tensor com valores aleatórios\n",
        "print(f\"Tensor aleatório:\\n {x_rand} \\n\")"
      ]
    },
    {
      "cell_type": "markdown",
      "id": "8909834a",
      "metadata": {
        "id": "8909834a"
      },
      "source": [
        "### O Grafo Computacional e o `autograd`\n",
        "\n",
        "O coração do PyTorch é o `autograd`, seu mecanismo de diferenciação automática. Para que o `autograd` funcione, ele constrói um **grafo computacional** dinamicamente. Este grafo é uma representação de todas as operações executadas nos tensores.\n",
        "\n",
        "Nesta seção, vamos decompor passo a passo como esse grafo é construído e utilizado para calcular gradientes, usando como exemplo a função:\n",
        "$$\n",
        "L = (ab - c)^2\n",
        "$$"
      ]
    },
    {
      "cell_type": "markdown",
      "id": "1f90b23a",
      "metadata": {
        "id": "1f90b23a"
      },
      "source": [
        "#### Passo 1: Definindo os Tensores Folha com `requires_grad`\n",
        "\n",
        "O processo começa com a definição dos tensores de entrada. Estes são as \"folhas\" do nosso grafo. Para que o PyTorch rastreie as operações e calcule os gradientes em relação a eles, devemos definir seu atributo `requires_grad` como `True`."
      ]
    },
    {
      "cell_type": "code",
      "execution_count": null,
      "id": "2e60d3aa",
      "metadata": {
        "colab": {
          "base_uri": "https://localhost:8080/"
        },
        "id": "2e60d3aa",
        "outputId": "c5ec54b3-6ee9-4191-e8c4-1c6f12191f11"
      },
      "outputs": [
        {
          "output_type": "stream",
          "name": "stdout",
          "text": [
            "Tensor 'a': 4.0\n",
            "Tensor 'b': 5.0\n",
            "Tensor 'c': 2.0\n"
          ]
        }
      ],
      "source": [
        "import torch\n",
        "\n",
        "# Definindo os tensores de entrada (folhas do grafo)\n",
        "# Estes são os parâmetros em relação aos quais queremos os gradientes\n",
        "a = torch.tensor(4.0, requires_grad=True)\n",
        "b = torch.tensor(5.0, requires_grad=True)\n",
        "c = torch.tensor(2.0, requires_grad=True)\n",
        "\n",
        "print(f\"Tensor 'a': {a}\")\n",
        "print(f\"Tensor 'b': {b}\")\n",
        "print(f\"Tensor 'c': {c}\")"
      ]
    },
    {
      "cell_type": "markdown",
      "id": "76a5a71c",
      "metadata": {
        "id": "76a5a71c"
      },
      "source": [
        "#### Passo 2: Construindo o Grafo no Forward Pass\n",
        "\n",
        "À medida que executamos as operações (o *forward pass*), o PyTorch constrói o grafo dinamicamente. Cada novo tensor resultante de uma operação armazena uma referência à função que o criou através do atributo `grad_fn`. Isso cria uma \"história\" computacional que permite a retropropagação."
      ]
    },
    {
      "cell_type": "code",
      "execution_count": null,
      "id": "af7ef489",
      "metadata": {
        "colab": {
          "base_uri": "https://localhost:8080/"
        },
        "id": "af7ef489",
        "outputId": "c98054b9-2917-4ac6-da04-1051fa6fbb7b"
      },
      "outputs": [
        {
          "output_type": "stream",
          "name": "stdout",
          "text": [
            "Resultado intermediário 'z': 18.0\n",
            "  - z.grad_fn: <SubBackward0 object at 0x789ea8289d20>\n",
            "\n",
            "Resultado final 'L': 324.0\n",
            "  - L.grad_fn: <PowBackward0 object at 0x789ea8289d20>\n"
          ]
        }
      ],
      "source": [
        "# Executando o forward pass para construir o grafo\n",
        "z = a * b - c\n",
        "L = z**2\n",
        "\n",
        "print(f\"Resultado intermediário 'z': {z}\")\n",
        "print(f\"  - z.grad_fn: {z.grad_fn}\\n\") # z foi criado por uma subtração (SubBackward0)\n",
        "\n",
        "print(f\"Resultado final 'L': {L}\")\n",
        "print(f\"  - L.grad_fn: {L.grad_fn}\") # L foi criado por uma potenciação (PowBackward0)"
      ]
    },
    {
      "cell_type": "markdown",
      "id": "18a9031a",
      "metadata": {
        "id": "18a9031a"
      },
      "source": [
        "#### Passo 3: Calculando os Gradientes com `.backward()`\n",
        "\n",
        "Com o grafo construído, podemos calcular os gradientes usando o método `.backward()` no tensor de saída final (que deve ser um escalar). Esta chamada inicia o processo de retropropagação a partir de `L`, aplicando a regra da cadeia para calcular as derivadas parciais de `L` em relação a cada tensor folha.\n",
        "\n",
        "Para o nosso exemplo, o `autograd` calcula:\n",
        "$$\n",
        "\\frac{\\partial L}{\\partial a} = \\frac{\\partial L}{\\partial z}\\frac{\\partial z}{\\partial a} = 2(ab - c)b\n",
        "$$\n",
        "E de forma análoga para `b` e `c`."
      ]
    },
    {
      "cell_type": "code",
      "execution_count": null,
      "id": "7776a3e3",
      "metadata": {
        "colab": {
          "base_uri": "https://localhost:8080/"
        },
        "id": "7776a3e3",
        "outputId": "654716f3-5da1-4dfa-ce85-90e0ca8d1ac6"
      },
      "outputs": [
        {
          "output_type": "stream",
          "name": "stdout",
          "text": [
            "O método L.backward() foi executado.\n"
          ]
        }
      ],
      "source": [
        "# Inicia a retropropagação a partir de L\n",
        "L.backward()\n",
        "print(\"O método L.backward() foi executado.\")"
      ]
    },
    {
      "cell_type": "markdown",
      "id": "75abb038",
      "metadata": {
        "id": "75abb038"
      },
      "source": [
        "#### Passo 4: Acessando os Gradientes Calculados\n",
        "\n",
        "Após a execução de `.backward()`, os gradientes calculados são acumulados no atributo `.grad` dos tensores folha (aqueles que foram inicializados com `requires_grad=True`)."
      ]
    },
    {
      "cell_type": "code",
      "execution_count": null,
      "id": "3080aafb",
      "metadata": {
        "colab": {
          "base_uri": "https://localhost:8080/"
        },
        "id": "3080aafb",
        "outputId": "4f732a59-2f5c-40fc-b331-0e2458e32a7c"
      },
      "outputs": [
        {
          "output_type": "stream",
          "name": "stdout",
          "text": [
            "Gradiente dL/da: 180.0\n",
            "  - Cálculo manual: 2 * (4*5 - 2) * 5 = 180.0\n",
            "\n",
            "Gradiente dL/db: 144.0\n",
            "  - Cálculo manual: 2 * (4*5 - 2) * 4 = 144.0\n",
            "\n",
            "Gradiente dL/dc: -36.0\n",
            "  - Cálculo manual: 2 * (4*5 - 2) * (-1) = -36.0\n"
          ]
        }
      ],
      "source": [
        "# Os gradientes agora estão disponíveis no atributo .grad de cada tensor folha\n",
        "print(f\"Gradiente dL/da: {a.grad}\")\n",
        "print(f\"  - Cálculo manual: 2 * (4*5 - 2) * 5 = {2 * (4*5 - 2) * 5.0}\\n\")\n",
        "\n",
        "print(f\"Gradiente dL/db: {b.grad}\")\n",
        "print(f\"  - Cálculo manual: 2 * (4*5 - 2) * 4 = {2 * (4*5 - 2) * 4.0}\\n\")\n",
        "\n",
        "print(f\"Gradiente dL/dc: {c.grad}\")\n",
        "print(f\"  - Cálculo manual: 2 * (4*5 - 2) * (-1) = {2 * (4*5 - 2) * (-1.0)}\")"
      ]
    },
    {
      "cell_type": "markdown",
      "id": "0dc463e3",
      "metadata": {
        "id": "0dc463e3"
      },
      "source": [
        "#### Desligando o Rastreamento com `torch.no_grad()`\n",
        "\n",
        "Para fases de inferência ou avaliação, onde não precisamos de gradientes, é crucial desativar o rastreamento para economizar memória e acelerar a computação. O gerenciador de contexto `with torch.no_grad():` instrui o PyTorch a não construir o grafo computacional para nenhuma operação dentro de seu escopo."
      ]
    },
    {
      "cell_type": "code",
      "execution_count": null,
      "id": "798f133c",
      "metadata": {
        "colab": {
          "base_uri": "https://localhost:8080/"
        },
        "id": "798f133c",
        "outputId": "cabd7604-943e-477f-abfa-69f7ab3031c8"
      },
      "outputs": [
        {
          "output_type": "stream",
          "name": "stdout",
          "text": [
            "Rastreamento de gradientes está ativado por padrão para 'a': True\n",
            "--- Entrando no bloco no_grad ---\n",
            "Resultado L_no_grad: 324.0\n",
            "L_no_grad.grad_fn: None\n",
            "L_no_grad.requires_grad: False\n",
            "--- Saindo do bloco no_grad ---\n",
            "O rastreamento de gradientes para 'a' continua ativado fora do bloco: True\n"
          ]
        }
      ],
      "source": [
        "print(f\"Rastreamento de gradientes está ativado por padrão para 'a': {a.requires_grad}\")\n",
        "\n",
        "with torch.no_grad():\n",
        "    print(\"--- Entrando no bloco no_grad ---\")\n",
        "\n",
        "    # A mesma operação é executada aqui\n",
        "    L_no_grad = (a * b - c)**2\n",
        "\n",
        "    print(f\"Resultado L_no_grad: {L_no_grad}\")\n",
        "    # O tensor resultante não possui grad_fn, pois a operação não foi rastreada\n",
        "    print(f\"L_no_grad.grad_fn: {L_no_grad.grad_fn}\")\n",
        "    print(f\"L_no_grad.requires_grad: {L_no_grad.requires_grad}\")\n",
        "\n",
        "    print(\"--- Saindo do bloco no_grad ---\")\n",
        "\n",
        "print(f\"O rastreamento de gradientes para 'a' continua ativado fora do bloco: {a.requires_grad}\")"
      ]
    },
    {
      "cell_type": "markdown",
      "id": "e5ec41d9",
      "metadata": {
        "id": "e5ec41d9"
      },
      "source": [
        "## 2. O Módulo `torch.nn`\n",
        "\n",
        "O `torch.nn` é o módulo do PyTorch para a construção de redes neurais. Ele fornece um conjunto de blocos de construção, como camadas (`Layers`), funções de ativação (`Activation Functions`), funções de custo (`Loss Functions`) e contêineres (`Containers`). Uma \"camada\" no `torch.nn` é um objeto que encapsula tanto os pesos (parâmetros) quanto as operações a serem aplicadas nos dados de entrada."
      ]
    },
    {
      "cell_type": "markdown",
      "id": "2222abd9",
      "metadata": {
        "id": "2222abd9"
      },
      "source": [
        "### Camada Linear: `nn.Linear`\n",
        "\n",
        "A camada mais fundamental é a `nn.Linear`, que aplica uma transformação afim aos dados de entrada: $y = xW^T + b$.\n",
        "\n",
        "-   `in_features`: a dimensionalidade do espaço de entrada.\n",
        "-   `out_features`: a dimensionalidade do espaço de saída.\n",
        "\n",
        "Os tensores de peso (`weight`, $W$) e de viés (`bias`, $b$) são encapsulados como `nn.Parameter`, uma subclasse de `torch.Tensor` que os registra automaticamente como parâmetros de um `nn.Module`."
      ]
    },
    {
      "cell_type": "code",
      "execution_count": null,
      "id": "c0ee0e68",
      "metadata": {
        "colab": {
          "base_uri": "https://localhost:8080/"
        },
        "id": "c0ee0e68",
        "outputId": "8f329b63-8da1-40f6-ebd9-d2326c3af2d9"
      },
      "outputs": [
        {
          "output_type": "stream",
          "name": "stdout",
          "text": [
            "Formato do tensor de entrada: torch.Size([3, 10])\n",
            "Formato do tensor de saída: torch.Size([3, 5])\n",
            "\n",
            "Pesos (weights) da camada:\n",
            " torch.Size([5, 10])\n",
            "Viés (bias) da camada:\n",
            " torch.Size([5])\n"
          ]
        }
      ],
      "source": [
        "from torch import nn\n",
        "\n",
        "# Definindo uma camada linear\n",
        "# Entrada: 10 features\n",
        "# Saída: 5 features\n",
        "linear_layer = nn.Linear(in_features=10, out_features=5)\n",
        "\n",
        "# Criando um tensor de entrada de exemplo (um \"batch\" com 3 amostras)\n",
        "# O formato é (batch_size, in_features)\n",
        "input_tensor = torch.randn(3, 10)\n",
        "\n",
        "# Passando os dados pela camada\n",
        "output_tensor = linear_layer(input_tensor)\n",
        "\n",
        "print(f\"Formato do tensor de entrada: {input_tensor.shape}\")\n",
        "print(f\"Formato do tensor de saída: {output_tensor.shape}\")\n",
        "print(f\"\\nPesos (weights) da camada:\\n {linear_layer.weight.shape}\")\n",
        "print(f\"Viés (bias) da camada:\\n {linear_layer.bias.shape}\")"
      ]
    },
    {
      "cell_type": "markdown",
      "id": "0db32237",
      "metadata": {
        "id": "0db32237"
      },
      "source": [
        "## 3. Funções de Ativação\n",
        "\n",
        "Funções de ativação introduzem não linearidade no modelo, capacitando-o a aprender fronteiras de decisão complexas. Elas são aplicadas elemento a elemento na saída de uma camada.\n",
        "\n",
        "### Funções Comuns\n",
        "\n",
        "-   **Sigmoid**: Comprime os valores de entrada no intervalo $(0, 1)$. Utilizada historicamente em camadas ocultas e atualmente em camadas de saída para classificação binária.\n",
        "    $$ \\sigma(x) = \\frac{1}{1 + e^{-x}} $$\n",
        "-   **Tanh (Tangente Hiperbólica)**: Comprime os valores de entrada no intervalo $(-1, 1)$. Geralmente converge mais rápido que a Sigmoid por ser centrada em zero.\n",
        "    $$ \\tanh(x) = \\frac{e^x - e^{-x}}{e^x + e^{-x}} $$\n",
        "-   **ReLU (Rectified Linear Unit)**: A função de ativação mais utilizada em redes profundas. É computacionalmente eficiente e ajuda a mitigar o problema do desaparecimento do gradiente (vanishing gradient).\n",
        "    $$ \\text{ReLU}(x) = \\max(0, x) $$\n",
        "-   **Leaky ReLU**: Uma variação da ReLU que permite a passagem de um pequeno gradiente negativo, prevenindo o problema dos \"neurônios mortos\".\n",
        "    $$ \\text{LeakyReLU}(x) = \\begin{cases} x, & \\text{if } x > 0 \\\\ \\alpha x, & \\text{otherwise} \\end{cases} $$\n",
        "-   **Softmax**: Transforma um vetor de números reais (logits) em uma distribuição de probabilidade sobre múltiplas classes. Utilizada na camada de saída para classificação multiclasse.\n",
        "    $$ \\text{Softmax}(x_i) = \\frac{e^{x_i}}{\\sum_{j} e^{x_j}} $$"
      ]
    },
    {
      "cell_type": "code",
      "execution_count": null,
      "id": "fbab214c",
      "metadata": {
        "colab": {
          "base_uri": "https://localhost:8080/"
        },
        "id": "fbab214c",
        "outputId": "4ce3d8d0-7877-4c00-fa8f-07ef88da8eb0"
      },
      "outputs": [
        {
          "output_type": "stream",
          "name": "stdout",
          "text": [
            "Saída da camada linear:\n",
            " tensor([[ 0.0251,  0.9298, -0.1222, -0.1238, -0.0874],\n",
            "        [ 0.0528,  0.8849,  0.8463,  1.2921, -0.7264],\n",
            "        [-0.5222,  0.7052, -0.0892,  0.3098, -0.6311]],\n",
            "       grad_fn=<AddmmBackward0>)\n",
            "\n",
            "Saída após ativação ReLU:\n",
            " tensor([[0.0251, 0.9298, 0.0000, 0.0000, 0.0000],\n",
            "        [0.0528, 0.8849, 0.8463, 1.2921, 0.0000],\n",
            "        [0.0000, 0.7052, 0.0000, 0.3098, 0.0000]], grad_fn=<ReluBackward0>)\n",
            "\n",
            "Saída após ativação Leaky ReLU:\n",
            " tensor([[ 2.5129e-02,  9.2979e-01, -1.2225e-03, -1.2375e-03, -8.7397e-04],\n",
            "        [ 5.2813e-02,  8.8486e-01,  8.4627e-01,  1.2921e+00, -7.2637e-03],\n",
            "        [-5.2216e-03,  7.0520e-01, -8.9168e-04,  3.0978e-01, -6.3113e-03]],\n",
            "       grad_fn=<LeakyReluBackward0>)\n"
          ]
        }
      ],
      "source": [
        "# As funções de ativação também estão no módulo nn\n",
        "relu_activation = nn.ReLU()\n",
        "leaky_relu_activation = nn.LeakyReLU()\n",
        "\n",
        "# Aplicando a ativação na saída da camada linear anterior\n",
        "output_with_relu = relu_activation(output_tensor)\n",
        "output_with_leaky_relu = leaky_relu_activation(output_tensor)\n",
        "\n",
        "print(f\"Saída da camada linear:\\n {output_tensor}\\n\")\n",
        "print(f\"Saída após ativação ReLU:\\n {output_with_relu}\\n\")\n",
        "print(f\"Saída após ativação Leaky ReLU:\\n {output_with_leaky_relu}\")"
      ]
    },
    {
      "cell_type": "markdown",
      "id": "c7c7291d",
      "metadata": {
        "id": "c7c7291d"
      },
      "source": [
        "## 4. Construindo Modelos\n",
        "\n",
        "O PyTorch oferece duas maneiras principais de agrupar camadas para formar um modelo completo.\n",
        "\n",
        "### `nn.Sequential`\n",
        "\n",
        "`nn.Sequential` é um contêiner que recebe uma sequência de módulos (camadas, funções de ativação, etc.) e os executa na ordem em que são passados. É uma forma rápida e simples de criar modelos onde os dados fluem sequencialmente através das camadas."
      ]
    },
    {
      "cell_type": "code",
      "execution_count": null,
      "id": "965dde91",
      "metadata": {
        "colab": {
          "base_uri": "https://localhost:8080/"
        },
        "id": "965dde91",
        "outputId": "69d8564e-c301-4e72-b1a4-8a5741000c85"
      },
      "outputs": [
        {
          "output_type": "stream",
          "name": "stdout",
          "text": [
            "Formato da saída do modelo: torch.Size([64, 10])\n"
          ]
        }
      ],
      "source": [
        "# Construindo um modelo simples com nn.Sequential\n",
        "model_sequential = nn.Sequential(\n",
        "    nn.Linear(in_features=256, out_features=128),\n",
        "    nn.ReLU(),\n",
        "    nn.Linear(in_features=128, out_features=10)\n",
        ")\n",
        "\n",
        "# Criando um tensor de entrada de exemplo\n",
        "inputs = torch.randn(64, 256)\n",
        "\n",
        "# Forward pass através do modelo sequencial\n",
        "logits = model_sequential(inputs) # 'logits' são as saídas brutas antes da probabilidade\n",
        "\n",
        "print(f\"Formato da saída do modelo: {logits.shape}\")"
      ]
    },
    {
      "cell_type": "markdown",
      "id": "6c230087",
      "metadata": {
        "id": "6c230087"
      },
      "source": [
        "### Classes customizadas com `nn.Module`\n",
        "\n",
        "Para modelos mais complexos, como aqueles com múltiplos caminhos de entrada/saída ou lógicas de *forward pass* não sequenciais (e.g., redes residuais), a abordagem recomendada é criar uma classe que herda de `nn.Module`.\n",
        "\n",
        "Toda classe de modelo customizada deve:\n",
        "1.  Herdar de `torch.nn.Module`.\n",
        "2.  Definir as camadas no construtor `__init__(self)`.\n",
        "3.  Implementar a lógica do *forward pass* no método `forward(self, x)`.\n",
        "\n",
        "O método `backward()` é gerenciado automaticamente pelo `autograd`."
      ]
    },
    {
      "cell_type": "code",
      "execution_count": null,
      "id": "2492bef7",
      "metadata": {
        "colab": {
          "base_uri": "https://localhost:8080/"
        },
        "id": "2492bef7",
        "outputId": "68a13a23-8f5e-4564-f940-444296118fda"
      },
      "outputs": [
        {
          "output_type": "stream",
          "name": "stdout",
          "text": [
            "Formato da saída do modelo (classe): torch.Size([64, 10])\n",
            "\n",
            "Estrutura do modelo:\n",
            "NeuralNetwork(\n",
            "  (layer1): Linear(in_features=256, out_features=128, bias=True)\n",
            "  (relu): ReLU()\n",
            "  (layer2): Linear(in_features=128, out_features=10, bias=True)\n",
            ")\n"
          ]
        }
      ],
      "source": [
        "# Definindo o mesmo modelo anterior, mas agora como uma classe\n",
        "class NeuralNetwork(nn.Module):\n",
        "    def __init__(self, input_size, hidden_size, num_classes):\n",
        "        super(NeuralNetwork, self).__init__()\n",
        "        self.layer1 = nn.Linear(input_size, hidden_size)\n",
        "        self.relu = nn.ReLU()\n",
        "        self.layer2 = nn.Linear(hidden_size, num_classes)\n",
        "\n",
        "    def forward(self, x):\n",
        "        out = self.layer1(x)\n",
        "        out = self.relu(out)\n",
        "        out = self.layer2(out)\n",
        "        return out\n",
        "\n",
        "# Instanciando o modelo\n",
        "model_class = NeuralNetwork(input_size=256, hidden_size=128, num_classes=10)\n",
        "\n",
        "# O uso é idêntico\n",
        "logits_class = model_class(inputs)\n",
        "\n",
        "print(f\"Formato da saída do modelo (classe): {logits_class.shape}\")\n",
        "print(f\"\\nEstrutura do modelo:\\n{model_class}\")"
      ]
    },
    {
      "cell_type": "markdown",
      "id": "48e0aed0",
      "metadata": {
        "id": "48e0aed0"
      },
      "source": [
        "## 5. Datasets e DataLoaders\n",
        "\n",
        "Para treinar um modelo, precisamos de um pipeline de dados eficiente. O PyTorch oferece duas primitivas de dados fundamentais para isso: `torch.utils.data.Dataset` e `torch.utils.data.DataLoader`.\n",
        "\n",
        "### A Estrutura de um `Dataset` Customizado\n",
        "\n",
        "A classe `Dataset` é uma classe abstrata que representa uma fonte de dados. Para criar seu próprio dataset, você precisa herdar desta classe e sobrescrever três métodos especiais (métodos mágicos):\n",
        "\n",
        "1.  `__init__(self, ...)`: O construtor da classe. É executado uma única vez ao instanciar o dataset. É aqui que você normalmente faria o carregamento inicial dos dados (ex: ler um arquivo CSV, encontrar os caminhos das imagens em um diretório).\n",
        "\n",
        "2.  `__len__(self)`: Este método deve retornar o número total de amostras no seu dataset. O `DataLoader` utiliza essa informação para saber o tamanho do dataset e definir os índices.\n",
        "\n",
        "3.  `__getitem__(self, idx)`: Este método é responsável por carregar e retornar **uma única amostra** do dataset, dado um índice `idx`. É aqui que transformações nos dados (como data augmentation ou normalização) são frequentemente aplicadas."
      ]
    },
    {
      "cell_type": "code",
      "execution_count": null,
      "id": "38dcbac6",
      "metadata": {
        "colab": {
          "base_uri": "https://localhost:8080/"
        },
        "id": "38dcbac6",
        "outputId": "738f6177-cc1d-4192-a917-f60e6cd0d7f0"
      },
      "outputs": [
        {
          "output_type": "stream",
          "name": "stdout",
          "text": [
            "Tamanho total do dataset: 500\n"
          ]
        }
      ],
      "source": [
        "from torch.utils.data import Dataset\n",
        "\n",
        "# Exemplo prático de um Dataset customizado com tensores\n",
        "class SimpleTensorDataset(Dataset):\n",
        "    def __init__(self, features_tensor, labels_tensor):\n",
        "        self.features = features_tensor\n",
        "        self.labels = labels_tensor\n",
        "\n",
        "    def __len__(self):\n",
        "        # Retorna o número total de amostras\n",
        "        return self.features.size(0)\n",
        "\n",
        "    def __getitem__(self, idx):\n",
        "        # Retorna uma tupla (feature, label) para um dado índice\n",
        "        feature_sample = self.features[idx]\n",
        "        label_sample = self.labels[idx]\n",
        "        return feature_sample, label_sample\n",
        "\n",
        "# Criando dados de exemplo\n",
        "features = torch.randn(500, 64) # 500 amostras, 64 features cada\n",
        "labels = torch.randint(0, 2, (500,)) # 500 rótulos (0 ou 1)\n",
        "\n",
        "# Instanciando o nosso dataset customizado\n",
        "custom_dataset = SimpleTensorDataset(features, labels)\n",
        "\n",
        "# Verificando a implementação dos métodos\n",
        "print(f\"Tamanho total do dataset: {len(custom_dataset)}\")"
      ]
    },
    {
      "cell_type": "code",
      "execution_count": null,
      "id": "f2062638",
      "metadata": {
        "colab": {
          "base_uri": "https://localhost:8080/"
        },
        "id": "f2062638",
        "outputId": "bca733f2-90d7-4df6-c95e-117c3dd8c921"
      },
      "outputs": [
        {
          "output_type": "stream",
          "name": "stdout",
          "text": [
            "Primeira amostra (features): torch.Size([64])\n",
            "Primeira amostra (label): 1\n"
          ]
        }
      ],
      "source": [
        "# Pegando a primeira amostra (chamando __getitem__ com idx=0)\n",
        "first_sample_features, first_sample_label = custom_dataset[0]\n",
        "print(f\"Primeira amostra (features): {first_sample_features.shape}\")\n",
        "print(f\"Primeira amostra (label): {first_sample_label}\")"
      ]
    },
    {
      "cell_type": "markdown",
      "id": "f8f3e2cc",
      "metadata": {
        "id": "f8f3e2cc"
      },
      "source": [
        "### O Papel do `DataLoader`\n",
        "\n",
        "Uma vez que temos um objeto `Dataset`, que sabe como acessar amostras individuais, precisamos de uma forma eficiente de iterar sobre ele durante o treinamento. É aqui que entra o `DataLoader`.\n",
        "\n",
        "O `DataLoader` é um iterador que envolve um `Dataset` e automatiza o processo de criação de mini-lotes (*mini-batches*). Suas principais funcionalidades são:\n",
        "\n",
        "-   **Agrupamento em Lotes (Batching)**: Agrupa múltiplas amostras retornadas pelo `__getitem__` do `Dataset` para formar um lote (batch) de dados.\n",
        "-   **Embaralhamento (Shuffling)**: Permite embaralhar os dados a cada época (`shuffle=True`) para evitar que o modelo aprenda a ordem dos dados e melhore a generalização.\n",
        "-   **Carregamento Paralelo (Parallel Loading)**: Pode usar múltiplos subprocessos (`num_workers`) para carregar os dados em paralelo, evitando que o carregamento de dados se torne um gargalo."
      ]
    },
    {
      "cell_type": "code",
      "execution_count": null,
      "id": "248ca3d9",
      "metadata": {
        "colab": {
          "base_uri": "https://localhost:8080/"
        },
        "id": "248ca3d9",
        "outputId": "2c9a12cf-9ac3-4b59-b021-aaff8c362eaf"
      },
      "outputs": [
        {
          "output_type": "stream",
          "name": "stdout",
          "text": [
            "Formato do batch de features: torch.Size([10, 64])\n",
            "Formato do batch de rótulos: torch.Size([10])\n"
          ]
        }
      ],
      "source": [
        "from torch.utils.data import DataLoader\n",
        "\n",
        "# Agora, usamos o DataLoader com o 'custom_dataset' que criamos anteriormente\n",
        "data_loader = DataLoader(dataset=custom_dataset, batch_size=10, shuffle=True)\n",
        "\n",
        "# O DataLoader é um iterável. Podemos usá-lo em um laço 'for' ou com 'next(iter())'\n",
        "# para obter o próximo lote de dados.\n",
        "first_batch_features, first_batch_labels = next(iter(data_loader))\n",
        "\n",
        "print(f\"Formato do batch de features: {first_batch_features.shape}\")\n",
        "print(f\"Formato do batch de rótulos: {first_batch_labels.shape}\")"
      ]
    },
    {
      "cell_type": "markdown",
      "id": "c9bb3e8e",
      "metadata": {
        "id": "c9bb3e8e"
      },
      "source": [
        "### Datasets Disponibilizados: `torchvision`\n",
        "\n",
        "Compreendida a estrutura de um `Dataset` e o papel do `DataLoader`, podemos apreciar a conveniência de bibliotecas como a `torchvision`. Ela já fornece implementações prontas da classe `Dataset` para datasets populares como o MNIST, que seguem a mesma estrutura que acabamos de ver."
      ]
    },
    {
      "cell_type": "code",
      "execution_count": null,
      "id": "f40c9ce9",
      "metadata": {
        "id": "f40c9ce9"
      },
      "outputs": [],
      "source": [
        "import torchvision\n",
        "import torchvision.transforms as transforms\n",
        "\n",
        "# Definindo transformações para os dados\n",
        "# ToTensor() converte a imagem PIL (H x W x C) no intervalo [0, 255]\n",
        "# para um FloatTensor (C x H x W) no intervalo [0.0, 1.0].\n",
        "transform = transforms.Compose([\n",
        "    transforms.ToTensor(),\n",
        "    transforms.Normalize((0.1307,), (0.3081,)) # Média e desvio padrão do MNIST\n",
        "])\n",
        "\n",
        "# Baixando o dataset de treino\n",
        "train_dataset = torchvision.datasets.MNIST(\n",
        "    root='./data',\n",
        "    train=True,\n",
        "    transform=transform,\n",
        "    download=True\n",
        ")\n",
        "\n",
        "# Baixando o dataset de teste\n",
        "test_dataset = torchvision.datasets.MNIST(\n",
        "    root='./data',\n",
        "    train=False,\n",
        "    transform=transform\n",
        ")"
      ]
    },
    {
      "cell_type": "code",
      "execution_count": null,
      "id": "ad79391c",
      "metadata": {
        "colab": {
          "base_uri": "https://localhost:8080/"
        },
        "id": "ad79391c",
        "outputId": "b688de42-2855-4e1b-959d-de636b883a65"
      },
      "outputs": [
        {
          "output_type": "stream",
          "name": "stdout",
          "text": [
            "Formato do batch de imagens: torch.Size([128, 1, 28, 28])\n",
            "Formato do batch de rótulos: torch.Size([128])\n"
          ]
        }
      ],
      "source": [
        "# Criando os DataLoaders\n",
        "batch_size = 128\n",
        "train_loader = DataLoader(\n",
        "    dataset=train_dataset,\n",
        "    batch_size=batch_size,\n",
        "    shuffle=True\n",
        ")\n",
        "\n",
        "test_loader = DataLoader(\n",
        "    dataset=test_dataset,\n",
        "    batch_size=batch_size,\n",
        "    shuffle=False\n",
        ")\n",
        "\n",
        "# Iterando sobre o DataLoader para ver o formato de um batch\n",
        "images, labels = next(iter(train_loader))\n",
        "print(f\"Formato do batch de imagens: {images.shape}\") # (batch_size, channels, height, width)\n",
        "print(f\"Formato do batch de rótulos: {labels.shape}\")"
      ]
    },
    {
      "cell_type": "code",
      "execution_count": null,
      "id": "a26da9d1",
      "metadata": {
        "colab": {
          "base_uri": "https://localhost:8080/",
          "height": 423
        },
        "id": "a26da9d1",
        "outputId": "3107f66b-2b86-487d-88dc-05941a7c4a76"
      },
      "outputs": [
        {
          "output_type": "display_data",
          "data": {
            "text/plain": [
              "<Figure size 640x480 with 1 Axes>"
            ],
            "image/png": "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\n"
          },
          "metadata": {}
        },
        {
          "output_type": "stream",
          "name": "stdout",
          "text": [
            "Rótulos:  9 6 8 8 5 0 2 8 7 5 0 2 1 1 7 5 3 1 8 0 6 0 9 2 0 4 3 1 3 6 0 6 5 7 6 0 1 0 3 3 9 4 1 1 9 0 9 5 4 8 5 1 8 3 8 0 8 4 4 0 5 7 6 6 9 2 5 0 9 3 0 0 3 6 4 7 3 5 6 6 8 2 3 6 2 9 0 2 3 3 3 1 0 6 4 7 4 6 0 7 3 5 4 1 5 5 9 1 7 1 4 2 0 9 8 7 1 6 6 4 8 4 7 0 9 1 5 8\n"
          ]
        }
      ],
      "source": [
        "import matplotlib.pyplot as plt\n",
        "import numpy as np\n",
        "\n",
        "# Função para exibir uma imagem\n",
        "def imshow(img):\n",
        "    # A normalização precisa ser revertida para a visualização correta\n",
        "    # Média = 0.1307, Desvio Padrão = 0.3081\n",
        "    img = img * 0.3081 + 0.1307\n",
        "    npimg = img.numpy()\n",
        "    plt.imshow(np.transpose(npimg, (1, 2, 0)))\n",
        "    plt.axis('off') # Remove os eixos\n",
        "    plt.show()\n",
        "\n",
        "# Pega um lote (batch) de imagens de treino\n",
        "dataiter = iter(train_loader)\n",
        "images, labels = next(dataiter)\n",
        "\n",
        "# Mostra as imagens em uma grade\n",
        "# O make_grid organiza o lote de imagens em uma única imagem-grade\n",
        "imshow(torchvision.utils.make_grid(images))\n",
        "\n",
        "# Imprime os rótulos correspondentes\n",
        "print('Rótulos: ', ' '.join(f'{labels[j].item()}' for j in range(batch_size)))"
      ]
    },
    {
      "cell_type": "markdown",
      "id": "fc9b6e42",
      "metadata": {
        "id": "fc9b6e42"
      },
      "source": [
        "## 6. Funções de Custo (Loss Functions)\n",
        "\n",
        "A função de custo $J(\\theta)$ mede a discrepância entre a saída prevista pelo modelo $\\hat{y}$ e o valor real $y$. O objetivo do treinamento é encontrar os parâmetros $\\theta$ que minimizam $J(\\theta)$.\n",
        "\n",
        "### Funções Comuns\n",
        "\n",
        "-   **Mean Squared Error (MSE)**: Utilizada principalmente para tarefas de regressão. Calcula a média dos erros quadráticos entre a previsão e o valor real.\n",
        "    $$ J_{MSE} = \\frac{1}{N} \\sum_{i=1}^{N} (y_i - \\hat{y}_i)^2 $$\n",
        "-   **Binary Cross-Entropy (BCE)**: Utilizada para classificação binária. Geralmente é combinada com uma camada de saída Sigmoid.\n",
        "    $$ J_{BCE} = -\\frac{1}{N} \\sum_{i=1}^{N} \\left[ y_i \\log(\\hat{y}_i) + (1 - y_i) \\log(1 - \\hat{y}_i) \\right] $$\n",
        "-   **Cross-Entropy Loss**: Utilizada para classificação multiclasse. No PyTorch, `nn.CrossEntropyLoss` combina `nn.LogSoftmax` e `nn.NLLLoss`, sendo numericamente mais estável. Ela espera como entrada os *logits* brutos do modelo e os rótulos de classe como inteiros.\n",
        "    $$ J_{CE} = -\\frac{1}{N} \\sum_{i=1}^{N} \\sum_{c=1}^{C} y_{i,c} \\log(\\hat{p}_{i,c}) $$\n",
        "    Onde $y_{i,c}$ é 1 se a amostra $i$ pertence à classe $c$ (0 caso contrário), e $\\hat{p}_{i,c}$ é a probabilidade prevista pelo modelo para a amostra $i$ pertencer à classe $c$."
      ]
    },
    {
      "cell_type": "code",
      "execution_count": null,
      "id": "6fc54866",
      "metadata": {
        "colab": {
          "base_uri": "https://localhost:8080/"
        },
        "id": "6fc54866",
        "outputId": "15301625-fd76-4270-9afe-2925426575a9"
      },
      "outputs": [
        {
          "output_type": "stream",
          "name": "stdout",
          "text": [
            "Valor da perda (loss): 2.7795932292938232\n"
          ]
        }
      ],
      "source": [
        "# Instanciando a função de custo para classificação multiclasse\n",
        "loss_function = nn.CrossEntropyLoss()\n",
        "\n",
        "# Exemplo de uso:\n",
        "# Saída do modelo (logits) para um batch de 3 amostras e 10 classes\n",
        "output_logits = torch.randn(3, 10)\n",
        "# Rótulos verdadeiros\n",
        "target_labels = torch.tensor([1, 4, 9]) # Classe 1, Classe 4, Classe 9\n",
        "\n",
        "# Calculando a perda\n",
        "loss = loss_function(output_logits, target_labels)\n",
        "print(f\"Valor da perda (loss): {loss.item()}\")"
      ]
    },
    {
      "cell_type": "markdown",
      "id": "0a7e0143",
      "metadata": {
        "id": "0a7e0143"
      },
      "source": [
        "## 7. Otimizadores\n",
        "\n",
        "O otimizador implementa o algoritmo de atualização dos parâmetros do modelo, $\\theta$, com base nos gradientes da função de custo, $\\nabla_{\\theta} J(\\theta)$. O objetivo é convergir para um mínimo (local ou global) da função de custo.\n",
        "\n",
        "O algoritmo mais fundamental é o **Stochastic Gradient Descent (SGD)**. A regra de atualização para um parâmetro $\\theta$ no passo de tempo $t$ é definida como:\n",
        "$$\n",
        "\\theta_{t+1} = \\theta_t - \\eta \\nabla_{\\theta} J(\\theta_t)\n",
        "$$\n",
        "onde $\\eta$ é a taxa de aprendizado (*learning rate*), um hiperparâmetro que controla o tamanho do passo na direção do gradiente negativo.\n",
        "\n",
        "Otimizadores mais avançados, como o **Adam (Adaptive Moment Estimation)**, utilizam taxas de aprendizado adaptativas para cada parâmetro, mantendo uma estimativa do primeiro momento (a média) e do segundo momento (a variância não centrada) dos gradientes, o que frequentemente leva a uma convergência mais rápida."
      ]
    },
    {
      "cell_type": "code",
      "execution_count": null,
      "id": "f2b6b718",
      "metadata": {
        "id": "f2b6b718"
      },
      "outputs": [],
      "source": [
        "# Instanciando o modelo\n",
        "learning_rate = 0.001\n",
        "model = NeuralNetwork(input_size=784, hidden_size=128, num_classes=10)\n",
        "\n",
        "# Instanciando o otimizador\n",
        "# Passamos os parâmetros do modelo que devem ser otimizados (model.parameters())\n",
        "# e a taxa de aprendizado (lr).\n",
        "optimizer = torch.optim.SGD(model.parameters(), lr=learning_rate)\n",
        "\n",
        "# O otimizador possui métodos cruciais:\n",
        "# optimizer.zero_grad(): Zera os gradientes de todos os parâmetros antes de um novo cálculo de backward pass.\n",
        "#   Isto é necessário porque o método .backward() acumula os gradientes por padrão.\n",
        "#\n",
        "# optimizer.step(): Atualiza os parâmetros do modelo usando a lógica do otimizador (e.g., Adam) e os gradientes\n",
        "#   armazenados no atributo .grad de cada parâmetro."
      ]
    },
    {
      "cell_type": "markdown",
      "id": "02499521",
      "metadata": {
        "id": "02499521"
      },
      "source": [
        "## 8. Treinamento: O Ciclo Completo\n",
        "\n",
        "O treinamento de uma rede neural consiste em um loop que itera sobre o dataset por várias \"épocas\" (*epochs*). Uma época é uma passagem completa por todo o dataset de treinamento. Dentro de cada época, iteramos sobre os *batches* de dados.\n",
        "\n",
        "Para cada *batch*, o ciclo de treinamento é:\n",
        "1.  **Zerar os gradientes**: Chamar `optimizer.zero_grad()`.\n",
        "2.  **Forward Pass**: Passar os dados de entrada pelo modelo para obter as previsões (logits).\n",
        "3.  **Calcular a Perda**: Comparar as previsões com os rótulos verdadeiros usando a função de custo.\n",
        "4.  **Backward Pass**: Chamar `loss.backward()` para calcular os gradientes da perda em relação a cada parâmetro do modelo.\n",
        "5.  **Atualizar os Pesos**: Chamar `optimizer.step()` para que o otimizador atualize os pesos com base nos gradientes."
      ]
    },
    {
      "cell_type": "code",
      "execution_count": null,
      "id": "d21914f1",
      "metadata": {
        "colab": {
          "base_uri": "https://localhost:8080/",
          "height": 476,
          "referenced_widgets": [
            "42d3d6fe563d46ec8cbfb01d3d39ca67",
            "9f2d497c372b42bd8827dc87ebe78394",
            "5e324f86a012414ca2bdeb20bd08dc93",
            "7453af8240fc422a873d36313a8bd834",
            "993da64950204e57b3148b875d36903b",
            "815040e00ee34677a78230634471313a",
            "6472f85dfb5b47e284ec70daabbc71d8",
            "353ae78a9516417c98ad11ebe1b72586",
            "a2995adaca014a879a39ea9949da91e4",
            "012ac63772ac428d9fd250ec223af176",
            "1e346cc94e3f4721918c41335de13d96",
            "66cecaa25f78406597fd62fe11afcc2c",
            "a0462e3c87f5463fa5913a29d1dbac73",
            "fe66debb04bc469ead4c615af813e828",
            "57129f531d8a4a2790db8b7ccd4d79be",
            "ac0c57a3683d4293a592739bfcac7f45",
            "d08fc7e603d84e4aa508d2c00f642438",
            "65c00929a282405e8fdad8dfa4871aa9",
            "bba673322e674aed93bc30d85a799c17",
            "d4b9db0ba2214f3a9524425928fd9d64",
            "2d7cafe1d7504b3a8ed3bfc2edb65d9c",
            "91885b19a956498ea17d076ab099e59d",
            "f647659b143c461796674f7b79a41b67",
            "0bb0a491542f4524887c3739a0c1021e",
            "eff712f49d374cf5b83347af726f1915",
            "3a35789e97c84585b20076a65485842a",
            "b9579e345ff54b539a95758d8c90b91e",
            "f8ee020841dc4788bac3f37cd5c2b975",
            "29288b2e7dcb491e956053c575dad113",
            "e556f6ce4a464910a75d3b0b426b7c8f",
            "43c350b2aa2b4aaa8a4831bb52fa1734",
            "bd7d7be86c4d42f88cad87c9b7b22c28",
            "eb1910f035054378b8c7cc01a9f67e73",
            "2403ce6b414849a897a67972bfde3d53",
            "69280125b50c40bd9af034aca943860b",
            "b693d61f1d2948cd915acba6d0da7a51",
            "ca8420d1d0214f4ba8c29936209abcb3",
            "aa7993e8744b4c41b54ecf042b5a3070",
            "f5d2d99fe79949e38192e3490148ac63",
            "5a63a67340b74e2fb1c57764689a450a",
            "9ddce39461c646ea9d022c3808a6c095",
            "da88530e015e4c87a9f8b9415c272723",
            "6860159acf0743bc9803d2b71bc11e49",
            "86c8e18bc09e4b7daeac01682a101397",
            "77dc45b49e3b4845afe7183a7f501792",
            "37548743c7a841f3bd60ce0a81f13a59",
            "d8f0af9cacb14f619854df7062d3dec9",
            "b28889c659154f2a8b717d124d756574",
            "7ecf25cb092a4805822ee686e9d7535e",
            "2ca0ded41e2e480b9f2adbf6b11365da",
            "5a5e9e02e77f4b3eb434d534d17bf284",
            "87c1811a18544f9aa9d5189be2dd03ee",
            "3eaf48ce887a4dcbb1150afe813cc8e3",
            "db91e84fffd44809b19be69f5c4e034a",
            "6c201a916f644b41a474fe4c2e40a064",
            "9b19ccbab5a54353a5091b357fdc7d8f",
            "97d060171b614a78a26190a24c92b3cb",
            "7e2d1f040aca4d1a85fade9e64edfbf7",
            "c8b9775c493b4a0fa68e93e98f338c39",
            "125aecb9ce3c4a269f06fd95b1e6d165",
            "886d05054423426b806566c6eb5642c8",
            "c60f65b4a17f403891985c48ddb0a060",
            "aa0f180c062a4815a85b1768a3a91d42",
            "26d8690d89f742f180928b85c5f3b1e3",
            "cc39037ac085498b9a5248adc252349a",
            "70a0e835a3db458585620dbfd01fadf7",
            "7b80e14ac916422b84e590e613d7a9fb",
            "501978b91de84edfa19dd166ae26ff2b",
            "5ba24eaf78ad49728a0c6745b9e92378",
            "8da11d2e6a3d41d6b0d142dae2acf428",
            "32f831a1de9d4cb5843e969091a2bc1f",
            "373d958809fb49089cb7172b03168db7",
            "d05d160f7e3f4b0c9362c5c9a1ab6c31",
            "93d6e3766b2a4d97ac1ba23373b932f6",
            "c93aeed1df1844da8b8b9a39a2c333a0",
            "2d28d22f1f8a4e37ac2324b4f45275a0",
            "5b3abf7cb3fe49829700ff7f98fda21e",
            "e3c2d7fffa904aee9842c5a820710a3f",
            "60a323e31b894f3c9784d407060700a9",
            "01dce5d7064b4cf1b0930e0ecf9287f2",
            "c94901e5e1ed4f219b4ff838b4d4bc41",
            "a90206a743934e678432928c182cbf49",
            "eff60b8e635c4402b7fda8bfc640c3b3",
            "c14b8c2aa1634e888a9dc3ec4c1a1670",
            "6e8dbcbb2091480eb5caf7046b164929",
            "7e6a8a665fa04f119315efc9b37e85fa",
            "75a801e75b684a7aa094e22526449bc1",
            "6d6d0c54f54b4273bc1a3ddab24e3d9b",
            "8ded4b27fca84f8da7a85965390b9c2e",
            "86ba59ce9b874408b1fb507e539d8bed",
            "6bb7bb2c45ce4ef9b3e9b1db3e17cb46",
            "26c44d46b7d544ea810edf300b795e9d",
            "7a6df6591df146d781c31e41535a934a",
            "642d8ba6ff3b4db0b1788e7db16f98fd",
            "846f0bb08d8249c783738762c44f6aa3",
            "8da2929f0dca4aa39163d865d52161a3",
            "69088f0899214e708f01d48c59f4a604",
            "0b8482d43b1c4abeb51feb38ba848732",
            "487816b96b7d4497b0c73f803430b33e",
            "ad435271abf843da89bafd754d0703b8",
            "ec4263051b8c4baeb942a959ee3c8ce0",
            "e42bec8a966d4d7c9b5dc1e8aaaf491f",
            "c51d421784174db6b9d3d78511a872e1",
            "4e8035dd228145a3bc2a0ab81fbd8b29",
            "eb5a7688d2ba40399fb730774fb632b3",
            "0eb1d989dbe04591a1973921f3f639da",
            "353d1b00a2c045c8bcc90b12a7cde370",
            "73a1d4b938034656bd5b2ec782e2c9a4",
            "459dce3d933f41c9b02696237d9f1b47",
            "1fab443fbafc402e88319af93febe756"
          ]
        },
        "id": "d21914f1",
        "outputId": "568f52e4-bb46-475d-8b4b-39b338ed5d16"
      },
      "outputs": [
        {
          "output_type": "stream",
          "name": "stdout",
          "text": [
            "Usando o dispositivo: cpu\n"
          ]
        },
        {
          "output_type": "display_data",
          "data": {
            "text/plain": [
              "Época [1/5] Treino:   0%|          | 0/469 [00:00<?, ?it/s]"
            ],
            "application/vnd.jupyter.widget-view+json": {
              "version_major": 2,
              "version_minor": 0,
              "model_id": "42d3d6fe563d46ec8cbfb01d3d39ca67"
            }
          },
          "metadata": {}
        },
        {
          "output_type": "display_data",
          "data": {
            "text/plain": [
              "Época [1/5] Validação:   0%|          | 0/79 [00:00<?, ?it/s]"
            ],
            "application/vnd.jupyter.widget-view+json": {
              "version_major": 2,
              "version_minor": 0,
              "model_id": "66cecaa25f78406597fd62fe11afcc2c"
            }
          },
          "metadata": {}
        },
        {
          "output_type": "stream",
          "name": "stdout",
          "text": [
            "Fim da Época [1/5] | Perda Treino: 0.2357, Acurácia Treino: 92.98% | Perda Validação: 0.1111, Acurácia Validação: 96.76%\n"
          ]
        },
        {
          "output_type": "display_data",
          "data": {
            "text/plain": [
              "Época [2/5] Treino:   0%|          | 0/469 [00:00<?, ?it/s]"
            ],
            "application/vnd.jupyter.widget-view+json": {
              "version_major": 2,
              "version_minor": 0,
              "model_id": "f647659b143c461796674f7b79a41b67"
            }
          },
          "metadata": {}
        },
        {
          "output_type": "display_data",
          "data": {
            "text/plain": [
              "Época [2/5] Validação:   0%|          | 0/79 [00:00<?, ?it/s]"
            ],
            "application/vnd.jupyter.widget-view+json": {
              "version_major": 2,
              "version_minor": 0,
              "model_id": "2403ce6b414849a897a67972bfde3d53"
            }
          },
          "metadata": {}
        },
        {
          "output_type": "stream",
          "name": "stdout",
          "text": [
            "Fim da Época [2/5] | Perda Treino: 0.0908, Acurácia Treino: 97.25% | Perda Validação: 0.0761, Acurácia Validação: 97.56%\n"
          ]
        },
        {
          "output_type": "display_data",
          "data": {
            "text/plain": [
              "Época [3/5] Treino:   0%|          | 0/469 [00:00<?, ?it/s]"
            ],
            "application/vnd.jupyter.widget-view+json": {
              "version_major": 2,
              "version_minor": 0,
              "model_id": "77dc45b49e3b4845afe7183a7f501792"
            }
          },
          "metadata": {}
        },
        {
          "output_type": "display_data",
          "data": {
            "text/plain": [
              "Época [3/5] Validação:   0%|          | 0/79 [00:00<?, ?it/s]"
            ],
            "application/vnd.jupyter.widget-view+json": {
              "version_major": 2,
              "version_minor": 0,
              "model_id": "9b19ccbab5a54353a5091b357fdc7d8f"
            }
          },
          "metadata": {}
        },
        {
          "output_type": "stream",
          "name": "stdout",
          "text": [
            "Fim da Época [3/5] | Perda Treino: 0.0561, Acurácia Treino: 98.32% | Perda Validação: 0.0682, Acurácia Validação: 97.78%\n"
          ]
        },
        {
          "output_type": "display_data",
          "data": {
            "text/plain": [
              "Época [4/5] Treino:   0%|          | 0/469 [00:00<?, ?it/s]"
            ],
            "application/vnd.jupyter.widget-view+json": {
              "version_major": 2,
              "version_minor": 0,
              "model_id": "7b80e14ac916422b84e590e613d7a9fb"
            }
          },
          "metadata": {}
        },
        {
          "output_type": "display_data",
          "data": {
            "text/plain": [
              "Época [4/5] Validação:   0%|          | 0/79 [00:00<?, ?it/s]"
            ],
            "application/vnd.jupyter.widget-view+json": {
              "version_major": 2,
              "version_minor": 0,
              "model_id": "e3c2d7fffa904aee9842c5a820710a3f"
            }
          },
          "metadata": {}
        },
        {
          "output_type": "stream",
          "name": "stdout",
          "text": [
            "Fim da Época [4/5] | Perda Treino: 0.0418, Acurácia Treino: 98.63% | Perda Validação: 0.0656, Acurácia Validação: 97.79%\n"
          ]
        },
        {
          "output_type": "display_data",
          "data": {
            "text/plain": [
              "Época [5/5] Treino:   0%|          | 0/469 [00:00<?, ?it/s]"
            ],
            "application/vnd.jupyter.widget-view+json": {
              "version_major": 2,
              "version_minor": 0,
              "model_id": "8ded4b27fca84f8da7a85965390b9c2e"
            }
          },
          "metadata": {}
        },
        {
          "output_type": "display_data",
          "data": {
            "text/plain": [
              "Época [5/5] Validação:   0%|          | 0/79 [00:00<?, ?it/s]"
            ],
            "application/vnd.jupyter.widget-view+json": {
              "version_major": 2,
              "version_minor": 0,
              "model_id": "ad435271abf843da89bafd754d0703b8"
            }
          },
          "metadata": {}
        },
        {
          "output_type": "stream",
          "name": "stdout",
          "text": [
            "Fim da Época [5/5] | Perda Treino: 0.0306, Acurácia Treino: 99.02% | Perda Validação: 0.0696, Acurácia Validação: 97.90%\n",
            "\n",
            "Treinamento concluído!\n"
          ]
        }
      ],
      "source": [
        "import matplotlib.pyplot as plt\n",
        "from tqdm.notebook import tqdm\n",
        "\n",
        "# Hiperparâmetros\n",
        "num_epochs = 5\n",
        "input_size = 784 # 28x28\n",
        "hidden_size = 500\n",
        "num_classes = 10\n",
        "learning_rate = 0.001\n",
        "\n",
        "# Dispositivo (GPU se disponível, senão CPU)\n",
        "device = torch.device('cuda' if torch.cuda.is_available() else 'cpu')\n",
        "print(f\"Usando o dispositivo: {device}\")\n",
        "\n",
        "# Instanciando o modelo, função de custo e otimizador e movendo o modelo para o dispositivo\n",
        "model = NeuralNetwork(input_size, hidden_size, num_classes).to(device)\n",
        "criterion = nn.CrossEntropyLoss()\n",
        "optimizer = torch.optim.Adam(model.parameters(), lr=learning_rate)\n",
        "\n",
        "# Listas para armazenar as métricas de cada época\n",
        "train_losses = []\n",
        "val_losses = []\n",
        "train_accuracies = []\n",
        "val_accuracies = []\n",
        "\n",
        "# Loop de treinamento\n",
        "for epoch in range(num_epochs):\n",
        "    # --- Treinamento ---\n",
        "    model.train() # Coloca o modelo em modo de treinamento\n",
        "    running_loss = 0.0\n",
        "    correct_train = 0\n",
        "    total_train = 0\n",
        "\n",
        "    progress_bar_train = tqdm(train_loader, desc=f'Época [{epoch+1}/{num_epochs}] Treino')\n",
        "\n",
        "    for images, labels in progress_bar_train:\n",
        "        images = images.reshape(-1, 28*28).to(device)\n",
        "        labels = labels.to(device)\n",
        "\n",
        "        # Forward pass\n",
        "        outputs = model(images)\n",
        "        loss = criterion(outputs, labels)\n",
        "\n",
        "        # Backward e otimização\n",
        "        optimizer.zero_grad()\n",
        "        loss.backward()\n",
        "        optimizer.step()\n",
        "\n",
        "        running_loss += loss.item()\n",
        "\n",
        "        # Calcula a acurácia de treino\n",
        "        _, predicted = torch.max(outputs.data, 1)\n",
        "        total_train += labels.size(0)\n",
        "        correct_train += (predicted == labels).sum().item()\n",
        "\n",
        "        progress_bar_train.set_postfix({'Perda Treino': f'{loss.item():.4f}'})\n",
        "\n",
        "    epoch_train_loss = running_loss / len(train_loader)\n",
        "    epoch_train_acc = 100 * correct_train / total_train\n",
        "    train_losses.append(epoch_train_loss)\n",
        "    train_accuracies.append(epoch_train_acc)\n",
        "\n",
        "    # --- Validação ---\n",
        "    model.eval() # Coloca o modelo em modo de avaliação\n",
        "    running_val_loss = 0.0\n",
        "    correct_val = 0\n",
        "    total_val = 0\n",
        "\n",
        "    progress_bar_val = tqdm(test_loader, desc=f'Época [{epoch+1}/{num_epochs}] Validação')\n",
        "\n",
        "    with torch.no_grad(): # Desabilita o cálculo de gradientes\n",
        "        for images, labels in progress_bar_val:\n",
        "            images = images.reshape(-1, 28*28).to(device)\n",
        "            labels = labels.to(device)\n",
        "\n",
        "            outputs = model(images)\n",
        "            loss = criterion(outputs, labels)\n",
        "            running_val_loss += loss.item()\n",
        "\n",
        "            # Calcula a acurácia de validação\n",
        "            _, predicted = torch.max(outputs.data, 1)\n",
        "            total_val += labels.size(0)\n",
        "            correct_val += (predicted == labels).sum().item()\n",
        "\n",
        "            progress_bar_val.set_postfix({'Perda Val': f'{loss.item():.4f}'})\n",
        "\n",
        "    epoch_val_loss = running_val_loss / len(test_loader)\n",
        "    epoch_val_acc = 100 * correct_val / total_val\n",
        "    val_losses.append(epoch_val_loss)\n",
        "    val_accuracies.append(epoch_val_acc)\n",
        "\n",
        "    print(f'Fim da Época [{epoch+1}/{num_epochs}] | '\n",
        "          f'Perda Treino: {epoch_train_loss:.4f}, Acurácia Treino: {epoch_train_acc:.2f}% | '\n",
        "          f'Perda Validação: {epoch_val_loss:.4f}, Acurácia Validação: {epoch_val_acc:.2f}%')\n",
        "\n",
        "print(\"\\nTreinamento concluído!\")"
      ]
    },
    {
      "cell_type": "markdown",
      "id": "a2525033",
      "metadata": {
        "id": "a2525033"
      },
      "source": [
        "### Visualização das Curvas de Aprendizado\n",
        "\n",
        "As curvas de aprendizado plotam as métricas de desempenho (como perda e acurácia) para os conjuntos de treinamento e validação ao longo das épocas. Elas são ferramentas de diagnóstico essenciais:\n",
        "\n",
        "-   **Curva de Perda (Loss Curve)**: Mostra a evolução da função de custo. Idealmente, ambas as perdas (treino e validação) devem diminuir. Se a perda de validação começar a aumentar enquanto a de treino continua caindo, é um sinal claro de *overfitting*.\n",
        "-   **Curva de Acurácia (Accuracy Curve)**: Mostra a evolução da acurácia. Idealmente, ambas devem aumentar e convergir. Uma grande diferença entre a acurácia de treino e a de validação também indica *overfitting*."
      ]
    },
    {
      "cell_type": "code",
      "execution_count": null,
      "id": "6a99a8cb",
      "metadata": {
        "colab": {
          "base_uri": "https://localhost:8080/",
          "height": 507
        },
        "id": "6a99a8cb",
        "outputId": "c03daa9d-91f5-45f7-eff4-17d4d6b96645"
      },
      "outputs": [
        {
          "output_type": "display_data",
          "data": {
            "text/plain": [
              "<Figure size 1500x500 with 2 Axes>"
            ],
            "image/png": "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\n"
          },
          "metadata": {}
        }
      ],
      "source": [
        "# Criando os plots\n",
        "fig, axs = plt.subplots(1, 2, figsize=(15, 5))\n",
        "\n",
        "# Plot da Curva de Perda\n",
        "axs[0].plot(train_losses, label='Perda de Treino')\n",
        "axs[0].plot(val_losses, label='Perda de Validação')\n",
        "axs[0].set_title(\"Curvas de Perda\")\n",
        "axs[0].set_xlabel(\"Época\")\n",
        "axs[0].set_ylabel(\"Perda (Cross-Entropy Loss)\")\n",
        "axs[0].legend()\n",
        "axs[0].grid(True)\n",
        "\n",
        "# Plot da Curva de Acurácia\n",
        "axs[1].plot(train_accuracies, label='Acurácia de Treino')\n",
        "axs[1].plot(val_accuracies, label='Acurácia de Validação')\n",
        "axs[1].set_title(\"Curvas de Acurácia\")\n",
        "axs[1].set_xlabel(\"Época\")\n",
        "axs[1].set_ylabel(\"Acurácia (%)\")\n",
        "axs[1].legend()\n",
        "axs[1].grid(True)\n",
        "\n",
        "plt.tight_layout()\n",
        "plt.show()"
      ]
    },
    {
      "cell_type": "markdown",
      "id": "4d0b83e7",
      "metadata": {
        "id": "4d0b83e7"
      },
      "source": [
        "### Avaliação do Modelo\n",
        "\n",
        "Após o treinamento, é fundamental avaliar a performance do modelo em dados que ele nunca viu, ou seja, o conjunto de teste. Durante a avaliação, não precisamos calcular gradientes, o que economiza memória e computação. Para isso, usamos o contexto `torch.no_grad()`."
      ]
    },
    {
      "cell_type": "code",
      "execution_count": null,
      "id": "47c09725",
      "metadata": {
        "colab": {
          "base_uri": "https://localhost:8080/"
        },
        "id": "47c09725",
        "outputId": "df147863-da97-4444-f776-83d82368d21d"
      },
      "outputs": [
        {
          "output_type": "stream",
          "name": "stdout",
          "text": [
            "Acurácia do modelo no dataset de teste: 97.90 %\n"
          ]
        }
      ],
      "source": [
        "\n",
        "model.eval()\n",
        "\n",
        "# O contexto torch.no_grad() desabilita o cálculo de gradientes\n",
        "with torch.no_grad():\n",
        "    correct = 0\n",
        "    total = 0\n",
        "    for images, labels in test_loader:\n",
        "        images = images.reshape(-1, 28*28).to(device)\n",
        "        labels = labels.to(device)\n",
        "\n",
        "        # Forward pass\n",
        "        outputs = model(images)\n",
        "\n",
        "        # A classe com o maior logit é a previsão\n",
        "        _, predicted = torch.max(outputs.data, 1)\n",
        "\n",
        "        total += labels.size(0)\n",
        "        correct += (predicted == labels).sum().item()\n",
        "\n",
        "    print(f'Acurácia do modelo no dataset de teste: {100 * correct / total:.2f} %')"
      ]
    },
    {
      "cell_type": "markdown",
      "id": "b287eaec",
      "metadata": {
        "id": "b287eaec"
      },
      "source": [
        "### Exercícios"
      ]
    },
    {
      "cell_type": "markdown",
      "id": "84bf7fc9",
      "metadata": {
        "id": "84bf7fc9"
      },
      "source": [
        "#### Exercício 1: Praticando com o `autograd`\n",
        "\n",
        "Calcule os gradientes da função $L = 2a^3 + 3b^2$ em relação a `a` e `b`.\n",
        "\n",
        "1.  Defina dois tensores, `a` e `b`, com os valores `a=2.0` e `b=5.0`. Lembre-se de definir `requires_grad=True`.\n",
        "2.  Escreva a operação em PyTorch para calcular `L`.\n",
        "3.  Use `.backward()` para calcular os gradientes.\n",
        "4.  Imprima `a.grad` e `b.grad`.\n",
        "5.  **Verificação:** Calcule as derivadas parciais $\\frac{\\partial L}{\\partial a}$ e $\\frac{\\partial L}{\\partial b}$ manualmente e confirme se os resultados correspondem aos do PyTorch."
      ]
    },
    {
      "cell_type": "code",
      "source": [
        "import torch\n",
        "\n",
        "# 1. Defina dois tensores, `a` e `b`, com requires_grad=True.\n",
        "a = torch.tensor(2.0, requires_grad=True)\n",
        "b = torch.tensor(5.0, requires_grad=True)\n",
        "\n",
        "print(f\"Tensor 'a' inicializado com valor: {a.item()}\")\n",
        "print(f\"Tensor 'b' inicializado com valor: {b.item()}\\n\")\n",
        "\n",
        "# 2. Escreva a operação em PyTorch para calcular L.\n",
        "# L = 2a^3 + 3b^2\n",
        "L = 2 * a**3 + 3 * b**2\n",
        "\n",
        "print(f\"Valor calculado de L: {L.item()}\\n\")\n",
        "\n",
        "# 3. Use .backward() para calcular os gradientes.\n",
        "L.backward()\n",
        "print(\"O método L.backward() foi executado.\\n\")\n",
        "\n",
        "# 4. Imprima a.grad e b.grad.\n",
        "print(\"--- Gradientes Calculados pelo PyTorch ---\")\n",
        "print(f\"O gradiente de L em relação a 'a' (dL/da) é: {a.grad}\")\n",
        "print(f\"O gradiente de L em relação a 'b' (dL/db) é: {b.grad}\")"
      ],
      "metadata": {
        "colab": {
          "base_uri": "https://localhost:8080/"
        },
        "id": "cPPN6QmYIFY0",
        "outputId": "d8858249-4cab-4415-8e3b-c0150d4ae45d"
      },
      "id": "cPPN6QmYIFY0",
      "execution_count": null,
      "outputs": [
        {
          "output_type": "stream",
          "name": "stdout",
          "text": [
            "Tensor 'a' inicializado com valor: 2.0\n",
            "Tensor 'b' inicializado com valor: 5.0\n",
            "\n",
            "Valor calculado de L: 91.0\n",
            "\n",
            "O método L.backward() foi executado.\n",
            "\n",
            "--- Gradientes Calculados pelo PyTorch ---\n",
            "O gradiente de L em relação a 'a' (dL/da) é: 24.0\n",
            "O gradiente de L em relação a 'b' (dL/db) é: 30.0\n"
          ]
        }
      ]
    },
    {
      "cell_type": "markdown",
      "source": [
        "#5.\n",
        "O gradiente de a calculado pelo PyTorch foi 24.0, que corresponde exatamente ao cálculo manual.\n",
        "\n",
        "O gradiente de b calculado pelo PyTorch foi 30.0, que também corresponde exatamente ao cálculo manual.\n",
        "\n",
        "\n",
        "\n",
        "\n",
        "\n",
        "\n",
        "\n",
        "\n"
      ],
      "metadata": {
        "id": "cmfwxLneIYPu"
      },
      "id": "cmfwxLneIYPu"
    },
    {
      "cell_type": "code",
      "source": [],
      "metadata": {
        "id": "c2dhlO5OIp6m"
      },
      "id": "c2dhlO5OIp6m",
      "execution_count": null,
      "outputs": []
    },
    {
      "cell_type": "markdown",
      "id": "15bf6d98",
      "metadata": {
        "id": "15bf6d98"
      },
      "source": [
        "#### Exercício 2: Aprofundando a Arquitetura da Rede\n",
        "\n",
        "Modifique a classe `NeuralNetwork` para que ela tenha **duas camadas ocultas** em vez de uma. A nova arquitetura deve ser:\n",
        "`Entrada (784) -> Camada Linear (256 neurônios) -> ReLU -> Camada Linear (128 neurônios) -> ReLU -> Saída (10 neurônios)`. Em seguida, treine o novo modelo e compare com as curvas de treinamento do modelo original."
      ]
    },
    {
      "cell_type": "code",
      "source": [
        "import torch\n",
        "from torch import nn\n",
        "\n",
        "class NeuralNetworkV2(nn.Module):\n",
        "    def __init__(self, input_size, hidden_size1, hidden_size2, num_classes):\n",
        "        super(NeuralNetworkV2, self).__init__()\n",
        "        # Definindo a primeira camada oculta\n",
        "        self.layer1 = nn.Linear(input_size, hidden_size1)\n",
        "        self.relu1 = nn.ReLU()\n",
        "        # Definindo a segunda camada oculta\n",
        "        self.layer2 = nn.Linear(hidden_size1, hidden_size2)\n",
        "        self.relu2 = nn.ReLU()\n",
        "        # Definindo a camada de saída\n",
        "        self.layer3 = nn.Linear(hidden_size2, num_classes)\n",
        "\n",
        "    def forward(self, x):\n",
        "        # Passagem pelos dados na primeira camada\n",
        "        out = self.layer1(x)\n",
        "        out = self.relu1(out)\n",
        "        # Passagem pelos dados na segunda camada\n",
        "        out = self.layer2(out)\n",
        "        out = self.relu2(out)\n",
        "        # Passagem pela camada de saída\n",
        "        out = self.layer3(out)\n",
        "        return out\n",
        "\n",
        "import torch\n",
        "import torch.nn as nn\n",
        "import torchvision\n",
        "import torchvision.transforms as transforms\n",
        "from torch.utils.data import DataLoader\n",
        "import matplotlib.pyplot as plt\n",
        "from tqdm.notebook import tqdm\n",
        "\n",
        "# Preparação dos Dados (código do notebook)\n",
        "transform = transforms.Compose([\n",
        "    transforms.ToTensor(),\n",
        "    transforms.Normalize((0.1307,), (0.3081,))\n",
        "])\n",
        "\n",
        "train_dataset = torchvision.datasets.MNIST(\n",
        "    root='./data', train=True, transform=transform, download=True)\n",
        "test_dataset = torchvision.datasets.MNIST(\n",
        "    root='./data', train=False, transform=transform)\n",
        "\n",
        "train_loader = DataLoader(dataset=train_dataset, batch_size=128, shuffle=True)\n",
        "test_loader = DataLoader(dataset=test_dataset, batch_size=128, shuffle=False)\n",
        "\n",
        "#Configuração do Treinamento\n",
        "num_epochs = 5\n",
        "input_size = 784\n",
        "hidden_size1 = 256\n",
        "hidden_size2 = 128\n",
        "num_classes = 10\n",
        "learning_rate = 0.001\n",
        "\n",
        "device = torch.device('cuda' if torch.cuda.is_available() else 'cpu')\n",
        "print(f\"Usando o dispositivo: {device}\")\n",
        "\n",
        "#Instanciando o NOVO MODELO, função de custo e otimizador\n",
        "model_v2 = NeuralNetworkV2(input_size, hidden_size1, hidden_size2, num_classes).to(device)\n",
        "criterion = nn.CrossEntropyLoss()\n",
        "optimizer = torch.optim.Adam(model_v2.parameters(), lr=learning_rate)\n",
        "\n",
        "print(\"\\nEstrutura do novo modelo:\")\n",
        "print(model_v2)\n",
        "\n",
        "\n",
        "#  Loop de Treinamento (código do notebook)\n",
        "train_losses = []\n",
        "val_losses = []\n",
        "train_accuracies = []\n",
        "val_accuracies = []\n",
        "\n",
        "for epoch in range(num_epochs):\n",
        "    model_v2.train()\n",
        "    running_loss, correct_train, total_train = 0.0, 0, 0\n",
        "    progress_bar_train = tqdm(train_loader, desc=f'Época [{epoch+1}/{num_epochs}] Treino')\n",
        "\n",
        "    for images, labels in progress_bar_train:\n",
        "        images = images.reshape(-1, 28*28).to(device)\n",
        "        labels = labels.to(device)\n",
        "\n",
        "        outputs = model_v2(images)\n",
        "        loss = criterion(outputs, labels)\n",
        "\n",
        "        optimizer.zero_grad()\n",
        "        loss.backward()\n",
        "        optimizer.step()\n",
        "\n",
        "        running_loss += loss.item()\n",
        "        _, predicted = torch.max(outputs.data, 1)\n",
        "        total_train += labels.size(0)\n",
        "        correct_train += (predicted == labels).sum().item()\n",
        "        progress_bar_train.set_postfix({'Perda Treino': f'{loss.item():.4f}'})\n",
        "\n",
        "    epoch_train_loss = running_loss / len(train_loader)\n",
        "    epoch_train_acc = 100 * correct_train / total_train\n",
        "    train_losses.append(epoch_train_loss)\n",
        "    train_accuracies.append(epoch_train_acc)\n",
        "\n",
        "    model_v2.eval()\n",
        "    running_val_loss, correct_val, total_val = 0.0, 0, 0\n",
        "    progress_bar_val = tqdm(test_loader, desc=f'Época [{epoch+1}/{num_epochs}] Validação')\n",
        "\n",
        "    with torch.no_grad():\n",
        "        for images, labels in progress_bar_val:\n",
        "            images = images.reshape(-1, 28*28).to(device)\n",
        "            labels = labels.to(device)\n",
        "            outputs = model_v2(images)\n",
        "            loss = criterion(outputs, labels)\n",
        "            running_val_loss += loss.item()\n",
        "            _, predicted = torch.max(outputs.data, 1)\n",
        "            total_val += labels.size(0)\n",
        "            correct_val += (predicted == labels).sum().item()\n",
        "            progress_bar_val.set_postfix({'Perda Val': f'{loss.item():.4f}'})\n",
        "\n",
        "    epoch_val_loss = running_val_loss / len(test_loader)\n",
        "    epoch_val_acc = 100 * correct_val / total_val\n",
        "    val_losses.append(epoch_val_loss)\n",
        "    val_accuracies.append(epoch_val_acc)\n",
        "\n",
        "    print(f'Fim da Época [{epoch+1}/{num_epochs}] | Perda Treino: {epoch_train_loss:.4f}, Acurácia Treino: {epoch_train_acc:.2f}% | Perda Validação: {epoch_val_loss:.4f}, Acurácia Validação: {epoch_val_acc:.2f}%')\n",
        "\n",
        "print(\"\\nTreinamento concluído!\")\n",
        "\n",
        "\n",
        "# Visualização das Curvas de Aprendizado (código do notebook)\n",
        "fig, axs = plt.subplots(1, 2, figsize=(15, 5))\n",
        "\n",
        "axs[0].plot(train_losses, label='Perda de Treino')\n",
        "axs[0].plot(val_losses, label='Perda de Validação')\n",
        "axs[0].set_title(\"Curvas de Perda do Modelo com 2 Camadas Ocultas\")\n",
        "axs[0].set_xlabel(\"Época\")\n",
        "axs[0].set_ylabel(\"Perda (Cross-Entropy Loss)\")\n",
        "axs[0].legend()\n",
        "axs[0].grid(True)\n",
        "\n",
        "axs[1].plot(train_accuracies, label='Acurácia de Treino')\n",
        "axs[1].plot(val_accuracies, label='Acurácia de Teste')\n",
        "axs[1].set_title(\"Curvas de Acurácia do Modelo com 2 Camadas Ocultas\")\n",
        "axs[1].set_xlabel(\"Época\")\n",
        "axs[1].set_ylabel(\"Acurácia (%)\")\n",
        "axs[1].legend()\n",
        "axs[1].grid(True)\n",
        "\n",
        "plt.tight_layout()\n",
        "plt.show()"
      ],
      "metadata": {
        "colab": {
          "base_uri": "https://localhost:8080/",
          "height": 1000,
          "referenced_widgets": [
            "2c008b85f9004f2d9586ba247862832e",
            "3e332a423f5046c18d564e6e4ca55f58",
            "180cb2d3180d41579bab6e0304737af8",
            "18466d396f204fb9ab184eda513630a1",
            "8d420665a83249dbb30678d8fcc45d5a",
            "f4d450c82bb349fa83f49bc04aa83df2",
            "78facd38cac1442199722091daf076f9",
            "79d5fc81b3f84326aae1636aca22a5fc",
            "6cf4761d739c47229c1a6c8167fe783b",
            "5c7d89914a994071b477dedd007e3e80",
            "054fe1e0b0024170bda94d98c90ebe53",
            "9b6f1a1ef9fc4b019f99d8c9a01a1e5d",
            "8d6a2a304be54c6091b64e711cc1ab45",
            "52f6ee4855bb424da595c890b19bdc8e",
            "9f812870c95e4b03ad6c8825f6dcb2da",
            "02623f8264024cfb8d297cb6ea6bafe9",
            "53a4cb3d53b345e3a8ce97b199987707",
            "8542bcef71be4eb38f8e7bba5d982ca3",
            "d4c467c662ee4cef8b5c5202e92f656d",
            "76c4ce557e1442ccb506ccb1eddbd1b7",
            "26747cb919354d68bf298876f31257d0",
            "c862194327e1432c8d9aadeccc21de34",
            "348bc3868adb406a8ebb8ba414d50fc4",
            "0c36631c4c1e42fabbb01075cfdfa2d9",
            "233f61b8a4ca44ffadccfb00e242e9a7",
            "1e8dded763af45a9a8266b03095eb71c",
            "8d0d11c3e31d4d5abd79aaa1410ce526",
            "33aafea936844cae920dc4b15282d5e3",
            "9a39e8b1aedf4ee18c82a30a994e98d4",
            "fdee1c96a7e74dbab6aa6727be3645e1",
            "30e69eb4704847c4b6ecaea51884d930",
            "87b81b9807184c64b36eb59e844cc2d5",
            "36c9d828fcdb4fd1bf9c6329cd6501de",
            "a4a38d36875f4d749bbd2e13db1964e9",
            "43db136a6ba14b24abae05cdc18daf77",
            "582c68e58b864d77bb2bfe902a1b6361",
            "dc60801a5e4f4b9ebd34e3af03f578bc",
            "ee197644221742b7bbce4e55f4c665a9",
            "0c4f39570e534ae18c0d9a402e50533b",
            "94ced2d57b8e4e28b99ec70d3f2b83a4",
            "13663c5545de4a3d99d4bba2035070d9",
            "72113b2cf34043f5895e3a2947fb3b20",
            "3056ebed844e4159a2fbbea949874535",
            "fa9cdcda69e54487b13469b188a9a3a9",
            "41280681f9214eb5ab73ebaf854acc76",
            "7c128f33b4ac4e3bba372f191689bc50",
            "4e10085c7d95434f84b1337bca218110",
            "fd80dfa2892145bb94873100ea80c8a2",
            "16a8ced4d18f4980a9fdb6b622df6965",
            "60962f87647e4b46a0c6620e7ea819ad",
            "454ca790c7d14b4093fb9a298d1582b1",
            "5617fd6c1ff840f2b21276131c95e0af",
            "8f29434edee34d49aba8b9e5ac1910fb",
            "40c3b4bf95c94e889bb8bb9320a78e55",
            "3695526b8a2e47edb294ed3cf461e6d6",
            "63b7bd8ec3ad416395b2ad40ed6e7ca9",
            "6210e3fe1d044e2fa77e3ed54d2c861a",
            "c7aadf3b37884759a1e27c7ac2526d9b",
            "253aa8834d874267a073c4145cadfb86",
            "e99de6f54a3546bb9e24f8bb4c357e78",
            "26c894894fef41a9b100198672b2dca7",
            "88bf2f00f9e2466ab9dbcdbd5e1a7436",
            "d5ef689c2a99487c8f6c302e0080ea2a",
            "9ffdfab00feb48c08681ab6de1e62a79",
            "170212b42d6244ee9330ceb8a8d7215a",
            "3d4a243706714defb638850317852bf6",
            "afb5cb7aa69b42018e7f556c535cfd43",
            "4685ced671dc42eda718501f516df516",
            "42b04d842d3a4225af08cc877422f4ec",
            "38f9dc8baa7d4a1bbae20543c592ee0d",
            "75ea8aeccc7d49178a06fc6c02a90edc",
            "0b3d66641c18473186da82764d218770",
            "009850a458724aee96203abfa644d7ca",
            "018cd1f97335455fada45792f75d7c4c",
            "6c233e50bc044a328742d3009a1b7004",
            "29c1cbd35ddb4ff2a4b86685eb7ddcaf",
            "07285c0e318340ef9dc3b8f518208969",
            "c31d2ac11c7f44538b73e72ddc4e7ef1",
            "77d1f04b82a24dcca19a1c2e5034a04e",
            "1252653b0d164c33bc2bc5497e7d1079",
            "c2b9b91820c74a178fead2d34b47ee94",
            "90401e1378b94e98bb9683e26388e3db",
            "d9ea264486d244e7b1377679979d1f22",
            "8a161b624a894585a6030d8d23685f73",
            "ce461b95e9ed4ba98b98c19f35881c51",
            "ddf9906febba47f6857110028c524df1",
            "d83fe74e55f348f89f6f5f4b3d5a738f",
            "282af4805d2f47408654bccf94f62b36",
            "b17b7fa4a5f1429c83a7dd4d0987b869",
            "763a24647255426b86d54521fc9a9d1a",
            "decf654f6a364735adc2ce7b246b9494",
            "ec8ad73f9d344de4bd3278e323f005e8",
            "5b6b3baa194d4afabeb27f03a8615d81",
            "4fcfd6881fe14b4c8223c420c8861d8d",
            "fdba38e0033d44c8841252e4372ae6ba",
            "d80a6e424bc0435d8e2c4273f16707a4",
            "c2fce245fde1415b9eaf7345d2494277",
            "ee0eaaaa1dec4753b5cb1ce46d714a90",
            "e26789e0e2904a6d8faa7296a323e630",
            "153423813a6e45e48a70c836b3136047",
            "b5714bfd301d4577b1f996c68f9daf0c",
            "bfd50961ea7540b5b629e0eab5e94a22",
            "4ef657f4e89e4d79902cd1b2eab1197d",
            "bf60b1eb9c894295b132f2b09cc1b377",
            "f48dbe71ee4445ea87811bda734fecb7",
            "9e6c2cf4638d4a3998527aab57c00830",
            "5fc123b557ea4b869c6ab8bceb342060",
            "ab5ff1948c554f3295c8c5e1afe6065c",
            "d7f677b366f74d718e03db1bbdf28044",
            "f0c919d143a74b9d8adb1124dbb1c652"
          ]
        },
        "id": "uonD3gp0IsNW",
        "outputId": "5ddb8b12-3c9d-4783-9e64-5f5eead1b6d5"
      },
      "id": "uonD3gp0IsNW",
      "execution_count": null,
      "outputs": [
        {
          "output_type": "stream",
          "name": "stdout",
          "text": [
            "Usando o dispositivo: cpu\n",
            "\n",
            "Estrutura do novo modelo:\n",
            "NeuralNetworkV2(\n",
            "  (layer1): Linear(in_features=784, out_features=256, bias=True)\n",
            "  (relu1): ReLU()\n",
            "  (layer2): Linear(in_features=256, out_features=128, bias=True)\n",
            "  (relu2): ReLU()\n",
            "  (layer3): Linear(in_features=128, out_features=10, bias=True)\n",
            ")\n"
          ]
        },
        {
          "output_type": "display_data",
          "data": {
            "text/plain": [
              "Época [1/5] Treino:   0%|          | 0/469 [00:00<?, ?it/s]"
            ],
            "application/vnd.jupyter.widget-view+json": {
              "version_major": 2,
              "version_minor": 0,
              "model_id": "2c008b85f9004f2d9586ba247862832e"
            }
          },
          "metadata": {}
        },
        {
          "output_type": "display_data",
          "data": {
            "text/plain": [
              "Época [1/5] Validação:   0%|          | 0/79 [00:00<?, ?it/s]"
            ],
            "application/vnd.jupyter.widget-view+json": {
              "version_major": 2,
              "version_minor": 0,
              "model_id": "9b6f1a1ef9fc4b019f99d8c9a01a1e5d"
            }
          },
          "metadata": {}
        },
        {
          "output_type": "stream",
          "name": "stdout",
          "text": [
            "Fim da Época [1/5] | Perda Treino: 0.2696, Acurácia Treino: 92.06% | Perda Validação: 0.1169, Acurácia Validação: 96.57%\n"
          ]
        },
        {
          "output_type": "display_data",
          "data": {
            "text/plain": [
              "Época [2/5] Treino:   0%|          | 0/469 [00:00<?, ?it/s]"
            ],
            "application/vnd.jupyter.widget-view+json": {
              "version_major": 2,
              "version_minor": 0,
              "model_id": "348bc3868adb406a8ebb8ba414d50fc4"
            }
          },
          "metadata": {}
        },
        {
          "output_type": "display_data",
          "data": {
            "text/plain": [
              "Época [2/5] Validação:   0%|          | 0/79 [00:00<?, ?it/s]"
            ],
            "application/vnd.jupyter.widget-view+json": {
              "version_major": 2,
              "version_minor": 0,
              "model_id": "a4a38d36875f4d749bbd2e13db1964e9"
            }
          },
          "metadata": {}
        },
        {
          "output_type": "stream",
          "name": "stdout",
          "text": [
            "Fim da Época [2/5] | Perda Treino: 0.1033, Acurácia Treino: 96.80% | Perda Validação: 0.0914, Acurácia Validação: 97.05%\n"
          ]
        },
        {
          "output_type": "display_data",
          "data": {
            "text/plain": [
              "Época [3/5] Treino:   0%|          | 0/469 [00:00<?, ?it/s]"
            ],
            "application/vnd.jupyter.widget-view+json": {
              "version_major": 2,
              "version_minor": 0,
              "model_id": "41280681f9214eb5ab73ebaf854acc76"
            }
          },
          "metadata": {}
        },
        {
          "output_type": "display_data",
          "data": {
            "text/plain": [
              "Época [3/5] Validação:   0%|          | 0/79 [00:00<?, ?it/s]"
            ],
            "application/vnd.jupyter.widget-view+json": {
              "version_major": 2,
              "version_minor": 0,
              "model_id": "63b7bd8ec3ad416395b2ad40ed6e7ca9"
            }
          },
          "metadata": {}
        },
        {
          "output_type": "stream",
          "name": "stdout",
          "text": [
            "Fim da Época [3/5] | Perda Treino: 0.0697, Acurácia Treino: 97.85% | Perda Validação: 0.0773, Acurácia Validação: 97.36%\n"
          ]
        },
        {
          "output_type": "display_data",
          "data": {
            "text/plain": [
              "Época [4/5] Treino:   0%|          | 0/469 [00:00<?, ?it/s]"
            ],
            "application/vnd.jupyter.widget-view+json": {
              "version_major": 2,
              "version_minor": 0,
              "model_id": "afb5cb7aa69b42018e7f556c535cfd43"
            }
          },
          "metadata": {}
        },
        {
          "output_type": "display_data",
          "data": {
            "text/plain": [
              "Época [4/5] Validação:   0%|          | 0/79 [00:00<?, ?it/s]"
            ],
            "application/vnd.jupyter.widget-view+json": {
              "version_major": 2,
              "version_minor": 0,
              "model_id": "c31d2ac11c7f44538b73e72ddc4e7ef1"
            }
          },
          "metadata": {}
        },
        {
          "output_type": "stream",
          "name": "stdout",
          "text": [
            "Fim da Época [4/5] | Perda Treino: 0.0502, Acurácia Treino: 98.41% | Perda Validação: 0.0790, Acurácia Validação: 97.57%\n"
          ]
        },
        {
          "output_type": "display_data",
          "data": {
            "text/plain": [
              "Época [5/5] Treino:   0%|          | 0/469 [00:00<?, ?it/s]"
            ],
            "application/vnd.jupyter.widget-view+json": {
              "version_major": 2,
              "version_minor": 0,
              "model_id": "b17b7fa4a5f1429c83a7dd4d0987b869"
            }
          },
          "metadata": {}
        },
        {
          "output_type": "display_data",
          "data": {
            "text/plain": [
              "Época [5/5] Validação:   0%|          | 0/79 [00:00<?, ?it/s]"
            ],
            "application/vnd.jupyter.widget-view+json": {
              "version_major": 2,
              "version_minor": 0,
              "model_id": "153423813a6e45e48a70c836b3136047"
            }
          },
          "metadata": {}
        },
        {
          "output_type": "stream",
          "name": "stdout",
          "text": [
            "Fim da Época [5/5] | Perda Treino: 0.0392, Acurácia Treino: 98.74% | Perda Validação: 0.0737, Acurácia Validação: 97.77%\n",
            "\n",
            "Treinamento concluído!\n"
          ]
        },
        {
          "output_type": "display_data",
          "data": {
            "text/plain": [
              "<Figure size 1500x500 with 2 Axes>"
            ],
            "image/png": "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\n"
          },
          "metadata": {}
        }
      ]
    },
    {
      "cell_type": "markdown",
      "source": [
        "Adicionar camada oculta aumentou a complexidade e a capacidade do modelo, o que provavelmente resultou em um desempenho ligeiramente melhor no dataset MNIST, um problema que se beneficia de arquiteturas mais profundas. O modelo mais profundo pode levar um pouco mais de tempo para convergir, e suas curvas de perda podem ser menos suaves no início, pois há mais parâmetros para ajustar. No entanto, com um otimizador como o Adam, essa diferença costuma ser bem gerenciada."
      ],
      "metadata": {
        "id": "lNM1jHXjI_Bn"
      },
      "id": "lNM1jHXjI_Bn"
    },
    {
      "cell_type": "markdown",
      "id": "bba96cb0",
      "metadata": {
        "id": "bba96cb0"
      },
      "source": [
        "#### Exercício 3: Otimizadores e Taxa de Aprendizado\n",
        "\n",
        "Altere a taxa de aprendizado no loop de treinamento. Utilize valores maiores (como `lr=1.0`) e menores (como `lr=0.0001`) do que o original. Como as curvas de treinamento se comportaram em cada ocasião?"
      ]
    },
    {
      "cell_type": "code",
      "source": [
        "import torch\n",
        "import torch.nn as nn\n",
        "import torchvision\n",
        "import torchvision.transforms as transforms\n",
        "from torch.utils.data import DataLoader\n",
        "import matplotlib.pyplot as plt\n",
        "from tqdm.notebook import tqdm\n",
        "\n",
        "# Função de Treinamento Parametrizada\n",
        "def train_with_lr(learning_rate):\n",
        "    print(f\"--- INICIANDO TREINAMENTO COM learning_rate = {learning_rate} ---\")\n",
        "\n",
        "    num_epochs = 5\n",
        "    input_size = 784\n",
        "    hidden_size1 = 256\n",
        "    hidden_size2 = 128\n",
        "    num_classes = 10\n",
        "\n",
        "    device = torch.device('cuda' if torch.cuda.is_available() else 'cpu')\n",
        "\n",
        "    # Instanciando o modelo, função de custo e otimizador\n",
        "    model = NeuralNetworkV2(input_size, hidden_size1, hidden_size2, num_classes).to(device)\n",
        "    criterion = nn.CrossEntropyLoss()\n",
        "    optimizer = torch.optim.Adam(model.parameters(), lr=learning_rate)\n",
        "\n",
        "    # Loop de Treinamento e Validação\n",
        "    for epoch in range(num_epochs):\n",
        "        model.train()\n",
        "        for images, labels in train_loader:\n",
        "            images = images.reshape(-1, 28*28).to(device)\n",
        "            labels = labels.to(device)\n",
        "            outputs = model(images)\n",
        "            loss = criterion(outputs, labels)\n",
        "            optimizer.zero_grad()\n",
        "            loss.backward()\n",
        "            optimizer.step()\n",
        "\n",
        "        model.eval()\n",
        "        correct_val, total_val = 0, 0\n",
        "        with torch.no_grad():\n",
        "            for images, labels in test_loader:\n",
        "                images = images.reshape(-1, 28*28).to(device)\n",
        "                labels = labels.to(device)\n",
        "                outputs = model(images)\n",
        "                _, predicted = torch.max(outputs.data, 1)\n",
        "                total_val += labels.size(0)\n",
        "                correct_val += (predicted == labels).sum().item()\n",
        "\n",
        "        epoch_val_acc = 100 * correct_val / total_val\n",
        "        print(f'Época [{epoch+1}/{num_epochs}], Acurácia Validação: {epoch_val_acc:.2f}%')\n",
        "    print(\"\\n\")\n",
        "\n",
        "# 1. Taxa de Aprendizado ALTA\n",
        "train_with_lr(learning_rate=1.0)\n",
        "\n",
        "# 2. Taxa de Aprendizado BAIXA\n",
        "train_with_lr(learning_rate=0.0001)"
      ],
      "metadata": {
        "colab": {
          "base_uri": "https://localhost:8080/"
        },
        "id": "3HdIXvg3LCrp",
        "outputId": "d6a10b19-9d1d-4c40-9cbb-211d4b7de6ce"
      },
      "id": "3HdIXvg3LCrp",
      "execution_count": null,
      "outputs": [
        {
          "output_type": "stream",
          "name": "stdout",
          "text": [
            "--- INICIANDO TREINAMENTO COM learning_rate = 1.0 ---\n",
            "Época [1/5], Acurácia Validação: 10.31%\n",
            "Época [2/5], Acurácia Validação: 9.60%\n",
            "Época [3/5], Acurácia Validação: 10.30%\n",
            "Época [4/5], Acurácia Validação: 9.60%\n",
            "Época [5/5], Acurácia Validação: 10.33%\n",
            "\n",
            "\n",
            "--- INICIANDO TREINAMENTO COM learning_rate = 0.0001 ---\n",
            "Época [1/5], Acurácia Validação: 91.81%\n",
            "Época [2/5], Acurácia Validação: 93.41%\n",
            "Época [3/5], Acurácia Validação: 94.61%\n",
            "Época [4/5], Acurácia Validação: 95.39%\n",
            "Época [5/5], Acurácia Validação: 95.88%\n",
            "\n",
            "\n"
          ]
        }
      ]
    },
    {
      "cell_type": "markdown",
      "source": [
        "**Taxa de aprendizado alta (lr=1.0): **O treinamento ficou instável e o modelo não conseguiu aprender. A acurácia permaneceu próxima a 10%, equivalente a um palpite aleatório. Isso ocorreu porque os passos de atualização dos pesos foram grandes demais, fazendo o otimizador ultrapassar a solução ideal.\n",
        "\n",
        "**Taxa de aprendizado baixa (lr=0.0001): **O treinamento foi estável, mas muito lento. A acurácia aumentou de forma gradual, atingindo um valor final abaixo do modelo original após o mesmo número de épocas. Isso aconteceu porque as atualizações dos pesos foram pequenas demais, tornando o aprendizado ineficiente e exigindo mais tempo para convergir."
      ],
      "metadata": {
        "id": "EeQ70vPrL4H5"
      },
      "id": "EeQ70vPrL4H5"
    },
    {
      "cell_type": "markdown",
      "id": "d87afae1",
      "metadata": {
        "id": "d87afae1"
      },
      "source": [
        "#### Exercício 4: Criando um Dataset para Regressão\n",
        "\n",
        "Crie uma classe de `Dataset` customizada para um problema de regressão simples. O dataset deve gerar dados sintéticos onde `y` é uma função linear de `x` com um pouco de ruído.\n",
        "\n",
        "Crie uma classe `RegressionDataset` que herde de `torch.utils.data.Dataset`. No `__init__`, crie um tensor `X` com 1000 pontos aleatórios entre -10 e 10 e crie um tensor `y` correspondente usando a fórmula $y = 5x - 3 + \\text{ruído}$ (use `torch.randn` para o ruído). Implemente os métodos `__len__` e `__getitem__` e use um `DataLoader` para extrair o primeiro lote (batch). Imprima o formato dos tensores de features e labels do lote para confirmar que seu pipeline de dados está funcionando corretamente."
      ]
    },
    {
      "cell_type": "code",
      "source": [
        "import torch\n",
        "from torch.utils.data import Dataset, DataLoader\n",
        "\n",
        "# 1. Crie uma classe RegressionDataset\n",
        "class RegressionDataset(Dataset):\n",
        "    def __init__(self, num_samples=1000):\n",
        "        super().__init__()\n",
        "        # Define o número total de amostras\n",
        "        self.num_samples = num_samples\n",
        "\n",
        "        # Cria um tensor X com 'num_samples' pontos aleatórios entre -10 e 10\n",
        "        # torch.rand gera números em [0, 1), então escalamos e deslocamos\n",
        "        self.X = (torch.rand(self.num_samples, 1) * 20) - 10\n",
        "\n",
        "        # Gera ruído gaussiano com a mesma forma de X\n",
        "        noise = torch.randn(self.num_samples, 1)\n",
        "\n",
        "        # Cria o tensor y correspondente usando a fórmula\n",
        "        self.y = 5 * self.X - 3 + noise\n",
        "\n",
        "    def __len__(self):\n",
        "        return self.num_samples\n",
        "\n",
        "    def __getitem__(self, idx):\n",
        "        return self.X[idx], self.y[idx]\n",
        "\n",
        "regression_dataset = RegressionDataset(num_samples=1000)\n",
        "print(f\"Tamanho total do dataset: {len(regression_dataset)}\")\n",
        "feature_sample, label_sample = regression_dataset[0]\n",
        "print(f\"Formato da primeira feature: {feature_sample.shape}\")\n",
        "print(f\"Valor da primeira feature: {feature_sample.item():.4f}\")\n",
        "print(f\"Valor do primeiro label: {label_sample.item():.4f}\\n\")\n",
        "\n",
        "\n",
        "# 2. Use um DataLoader para extrair o primeiro lote (batch)\n",
        "batch_size = 32\n",
        "data_loader = DataLoader(dataset=regression_dataset, batch_size=batch_size, shuffle=True)\n",
        "\n",
        "# Extraindo o primeiro lote de dados\n",
        "first_batch_features, first_batch_labels = next(iter(data_loader))\n",
        "\n",
        "\n",
        "# 3. Imprima o formato dos tensores para confirmar que o pipeline funciona\n",
        "print(f\"--- Verificação do DataLoader com batch_size = {batch_size} ---\")\n",
        "print(f\"Formato do lote (batch) de features: {first_batch_features.shape}\")\n",
        "print(f\"Formato do lote (batch) de labels: {first_batch_labels.shape}\")"
      ],
      "metadata": {
        "colab": {
          "base_uri": "https://localhost:8080/"
        },
        "id": "DVtiShZaLtIH",
        "outputId": "12c05991-ed80-4d09-9d3e-f6f563e0bda9"
      },
      "id": "DVtiShZaLtIH",
      "execution_count": null,
      "outputs": [
        {
          "output_type": "stream",
          "name": "stdout",
          "text": [
            "Tamanho total do dataset: 1000\n",
            "Formato da primeira feature: torch.Size([1])\n",
            "Valor da primeira feature: 0.3569\n",
            "Valor do primeiro label: -2.5485\n",
            "\n",
            "--- Verificação do DataLoader com batch_size = 32 ---\n",
            "Formato do lote (batch) de features: torch.Size([32, 1])\n",
            "Formato do lote (batch) de labels: torch.Size([32, 1])\n"
          ]
        }
      ]
    }
  ],
  "metadata": {
    "kernelspec": {
      "display_name": "base",
      "language": "python",
      "name": "python3"
    },
    "language_info": {
      "codemirror_mode": {
        "name": "ipython",
        "version": 3
      },
      "file_extension": ".py",
      "mimetype": "text/x-python",
      "name": "python",
      "nbconvert_exporter": "python",
      "pygments_lexer": "ipython3",
      "version": "3.10.9"
    },
    "colab": {
      "provenance": []
    },
  "nbformat": 4,
  "nbformat_minor": 5
}
